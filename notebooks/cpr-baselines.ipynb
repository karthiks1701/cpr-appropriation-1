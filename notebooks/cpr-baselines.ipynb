{
 "cells": [
  {
   "cell_type": "markdown",
   "id": "5bcc75b5",
   "metadata": {},
   "source": [
    "# CPR appropriation baselines"
   ]
  },
  {
   "cell_type": "markdown",
   "id": "002c6cf0",
   "metadata": {},
   "source": [
    "This notebook contains actual Harvest trainings for the DQN baseline described in the original paper. The environment in use is a custom implementation of Harvest."
   ]
  },
  {
   "cell_type": "markdown",
   "id": "e249de4b",
   "metadata": {},
   "source": [
    "## Pre-requisites"
   ]
  },
  {
   "cell_type": "markdown",
   "id": "fc303d0f",
   "metadata": {},
   "source": [
    "The cells down below install and import the necessary libraries to successfully run the notebook examples."
   ]
  },
  {
   "cell_type": "code",
   "execution_count": 1,
   "id": "86f1248e",
   "metadata": {},
   "outputs": [],
   "source": [
    "import sys\n",
    "sys.path.append('../')"
   ]
  },
  {
   "cell_type": "code",
   "execution_count": 2,
   "id": "05407869",
   "metadata": {},
   "outputs": [
    {
     "name": "stdout",
     "output_type": "stream",
     "text": [
      "Requirement already satisfied: black==21.6b0 in /home/somz/anaconda3/envs/Harvest-DQN/lib/python3.9/site-packages (from -r ../init/requirements.txt (line 1)) (21.6b0)\n",
      "Requirement already satisfied: jupyter==1.0.0 in /home/somz/anaconda3/envs/Harvest-DQN/lib/python3.9/site-packages (from -r ../init/requirements.txt (line 2)) (1.0.0)\n",
      "Requirement already satisfied: gym==0.18.3 in /home/somz/anaconda3/envs/Harvest-DQN/lib/python3.9/site-packages (from -r ../init/requirements.txt (line 3)) (0.18.3)\n",
      "Requirement already satisfied: matplotlib==3.4.3 in /home/somz/anaconda3/envs/Harvest-DQN/lib/python3.9/site-packages (from -r ../init/requirements.txt (line 4)) (3.4.3)\n",
      "Requirement already satisfied: torch==1.9.0 in /home/somz/anaconda3/envs/Harvest-DQN/lib/python3.9/site-packages (from -r ../init/requirements.txt (line 5)) (1.9.0)\n",
      "Requirement already satisfied: ray[default]==1.5.2 in /home/somz/anaconda3/envs/Harvest-DQN/lib/python3.9/site-packages (from -r ../init/requirements.txt (line 6)) (1.5.2)\n",
      "Requirement already satisfied: tensorboard==2.6.0 in /home/somz/anaconda3/envs/Harvest-DQN/lib/python3.9/site-packages (from -r ../init/requirements.txt (line 7)) (2.6.0)\n",
      "Requirement already satisfied: tensorboardX==2.4 in /home/somz/anaconda3/envs/Harvest-DQN/lib/python3.9/site-packages (from -r ../init/requirements.txt (line 8)) (2.4)\n",
      "Requirement already satisfied: wandb==0.12.0 in /home/somz/anaconda3/envs/Harvest-DQN/lib/python3.9/site-packages (from -r ../init/requirements.txt (line 9)) (0.12.0)\n",
      "Requirement already satisfied: loguru==0.5.3 in /home/somz/anaconda3/envs/Harvest-DQN/lib/python3.9/site-packages (from -r ../init/requirements.txt (line 10)) (0.5.3)\n",
      "Requirement already satisfied: lz4==3.1.3 in /home/somz/anaconda3/envs/Harvest-DQN/lib/python3.9/site-packages (from -r ../init/requirements.txt (line 11)) (3.1.3)\n",
      "Requirement already satisfied: mypy-extensions>=0.4.3 in /home/somz/anaconda3/envs/Harvest-DQN/lib/python3.9/site-packages (from black==21.6b0->-r ../init/requirements.txt (line 1)) (0.4.3)\n",
      "Requirement already satisfied: regex>=2020.1.8 in /home/somz/anaconda3/envs/Harvest-DQN/lib/python3.9/site-packages (from black==21.6b0->-r ../init/requirements.txt (line 1)) (2021.10.8)\n",
      "Requirement already satisfied: pathspec<1,>=0.8.1 in /home/somz/anaconda3/envs/Harvest-DQN/lib/python3.9/site-packages (from black==21.6b0->-r ../init/requirements.txt (line 1)) (0.9.0)\n",
      "Requirement already satisfied: appdirs in /home/somz/anaconda3/envs/Harvest-DQN/lib/python3.9/site-packages (from black==21.6b0->-r ../init/requirements.txt (line 1)) (1.4.4)\n",
      "Requirement already satisfied: toml>=0.10.1 in /home/somz/anaconda3/envs/Harvest-DQN/lib/python3.9/site-packages (from black==21.6b0->-r ../init/requirements.txt (line 1)) (0.10.2)\n",
      "Requirement already satisfied: click>=7.1.2 in /home/somz/anaconda3/envs/Harvest-DQN/lib/python3.9/site-packages (from black==21.6b0->-r ../init/requirements.txt (line 1)) (8.0.3)\n",
      "Requirement already satisfied: ipykernel in /home/somz/anaconda3/envs/Harvest-DQN/lib/python3.9/site-packages (from jupyter==1.0.0->-r ../init/requirements.txt (line 2)) (6.4.1)\n",
      "Requirement already satisfied: nbconvert in /home/somz/anaconda3/envs/Harvest-DQN/lib/python3.9/site-packages (from jupyter==1.0.0->-r ../init/requirements.txt (line 2)) (6.2.0)\n",
      "Requirement already satisfied: notebook in /home/somz/anaconda3/envs/Harvest-DQN/lib/python3.9/site-packages (from jupyter==1.0.0->-r ../init/requirements.txt (line 2)) (6.4.4)\n",
      "Requirement already satisfied: ipywidgets in /home/somz/anaconda3/envs/Harvest-DQN/lib/python3.9/site-packages (from jupyter==1.0.0->-r ../init/requirements.txt (line 2)) (7.6.5)\n",
      "Requirement already satisfied: qtconsole in /home/somz/anaconda3/envs/Harvest-DQN/lib/python3.9/site-packages (from jupyter==1.0.0->-r ../init/requirements.txt (line 2)) (5.1.1)\n",
      "Requirement already satisfied: jupyter-console in /home/somz/anaconda3/envs/Harvest-DQN/lib/python3.9/site-packages (from jupyter==1.0.0->-r ../init/requirements.txt (line 2)) (6.4.0)\n",
      "Requirement already satisfied: cloudpickle<1.7.0,>=1.2.0 in /home/somz/anaconda3/envs/Harvest-DQN/lib/python3.9/site-packages (from gym==0.18.3->-r ../init/requirements.txt (line 3)) (1.6.0)\n",
      "Requirement already satisfied: Pillow<=8.2.0 in /home/somz/anaconda3/envs/Harvest-DQN/lib/python3.9/site-packages (from gym==0.18.3->-r ../init/requirements.txt (line 3)) (8.2.0)\n",
      "Requirement already satisfied: numpy>=1.10.4 in /home/somz/anaconda3/envs/Harvest-DQN/lib/python3.9/site-packages (from gym==0.18.3->-r ../init/requirements.txt (line 3)) (1.21.2)\n",
      "Requirement already satisfied: scipy in /home/somz/anaconda3/envs/Harvest-DQN/lib/python3.9/site-packages (from gym==0.18.3->-r ../init/requirements.txt (line 3)) (1.7.1)\n",
      "Requirement already satisfied: pyglet<=1.5.15,>=1.4.0 in /home/somz/anaconda3/envs/Harvest-DQN/lib/python3.9/site-packages (from gym==0.18.3->-r ../init/requirements.txt (line 3)) (1.5.15)\n",
      "Requirement already satisfied: kiwisolver>=1.0.1 in /home/somz/anaconda3/envs/Harvest-DQN/lib/python3.9/site-packages (from matplotlib==3.4.3->-r ../init/requirements.txt (line 4)) (1.3.2)\n",
      "Requirement already satisfied: pyparsing>=2.2.1 in /home/somz/anaconda3/envs/Harvest-DQN/lib/python3.9/site-packages (from matplotlib==3.4.3->-r ../init/requirements.txt (line 4)) (2.4.7)\n",
      "Requirement already satisfied: python-dateutil>=2.7 in /home/somz/anaconda3/envs/Harvest-DQN/lib/python3.9/site-packages (from matplotlib==3.4.3->-r ../init/requirements.txt (line 4)) (2.8.2)\n",
      "Requirement already satisfied: cycler>=0.10 in /home/somz/anaconda3/envs/Harvest-DQN/lib/python3.9/site-packages (from matplotlib==3.4.3->-r ../init/requirements.txt (line 4)) (0.10.0)\n",
      "Requirement already satisfied: typing-extensions in /home/somz/anaconda3/envs/Harvest-DQN/lib/python3.9/site-packages (from torch==1.9.0->-r ../init/requirements.txt (line 5)) (3.10.0.2)\n",
      "Requirement already satisfied: gpustat in /home/somz/anaconda3/envs/Harvest-DQN/lib/python3.9/site-packages (from ray[default]==1.5.2->-r ../init/requirements.txt (line 6)) (0.6.0)\n",
      "Requirement already satisfied: aiohttp in /home/somz/anaconda3/envs/Harvest-DQN/lib/python3.9/site-packages (from ray[default]==1.5.2->-r ../init/requirements.txt (line 6)) (3.7.4.post0)\n",
      "Requirement already satisfied: filelock in /home/somz/anaconda3/envs/Harvest-DQN/lib/python3.9/site-packages (from ray[default]==1.5.2->-r ../init/requirements.txt (line 6)) (3.3.1)\n",
      "Requirement already satisfied: colorama in /home/somz/anaconda3/envs/Harvest-DQN/lib/python3.9/site-packages (from ray[default]==1.5.2->-r ../init/requirements.txt (line 6)) (0.4.4)\n",
      "Requirement already satisfied: aiohttp-cors in /home/somz/anaconda3/envs/Harvest-DQN/lib/python3.9/site-packages (from ray[default]==1.5.2->-r ../init/requirements.txt (line 6)) (0.7.0)\n",
      "Requirement already satisfied: protobuf>=3.15.3 in /home/somz/anaconda3/envs/Harvest-DQN/lib/python3.9/site-packages (from ray[default]==1.5.2->-r ../init/requirements.txt (line 6)) (3.18.1)\n",
      "Requirement already satisfied: requests in /home/somz/anaconda3/envs/Harvest-DQN/lib/python3.9/site-packages (from ray[default]==1.5.2->-r ../init/requirements.txt (line 6)) (2.26.0)\n",
      "Requirement already satisfied: jsonschema in /home/somz/anaconda3/envs/Harvest-DQN/lib/python3.9/site-packages (from ray[default]==1.5.2->-r ../init/requirements.txt (line 6)) (4.1.0)\n",
      "Requirement already satisfied: redis>=3.5.0 in /home/somz/anaconda3/envs/Harvest-DQN/lib/python3.9/site-packages (from ray[default]==1.5.2->-r ../init/requirements.txt (line 6)) (3.5.3)\n",
      "Requirement already satisfied: grpcio>=1.28.1 in /home/somz/anaconda3/envs/Harvest-DQN/lib/python3.9/site-packages (from ray[default]==1.5.2->-r ../init/requirements.txt (line 6)) (1.41.0)\n",
      "Requirement already satisfied: py-spy>=0.2.0 in /home/somz/anaconda3/envs/Harvest-DQN/lib/python3.9/site-packages (from ray[default]==1.5.2->-r ../init/requirements.txt (line 6)) (0.3.10)\n",
      "Requirement already satisfied: msgpack<2.0.0,>=1.0.0 in /home/somz/anaconda3/envs/Harvest-DQN/lib/python3.9/site-packages (from ray[default]==1.5.2->-r ../init/requirements.txt (line 6)) (1.0.2)\n",
      "Requirement already satisfied: aioredis<2 in /home/somz/anaconda3/envs/Harvest-DQN/lib/python3.9/site-packages (from ray[default]==1.5.2->-r ../init/requirements.txt (line 6)) (1.3.1)\n",
      "Requirement already satisfied: pydantic>=1.8 in /home/somz/anaconda3/envs/Harvest-DQN/lib/python3.9/site-packages (from ray[default]==1.5.2->-r ../init/requirements.txt (line 6)) (1.8.2)\n",
      "Requirement already satisfied: opencensus in /home/somz/anaconda3/envs/Harvest-DQN/lib/python3.9/site-packages (from ray[default]==1.5.2->-r ../init/requirements.txt (line 6)) (0.8.0)\n",
      "Requirement already satisfied: prometheus-client>=0.7.1 in /home/somz/anaconda3/envs/Harvest-DQN/lib/python3.9/site-packages (from ray[default]==1.5.2->-r ../init/requirements.txt (line 6)) (0.11.0)\n",
      "Requirement already satisfied: pyyaml in /home/somz/anaconda3/envs/Harvest-DQN/lib/python3.9/site-packages (from ray[default]==1.5.2->-r ../init/requirements.txt (line 6)) (6.0)\n",
      "Requirement already satisfied: colorful in /home/somz/anaconda3/envs/Harvest-DQN/lib/python3.9/site-packages (from ray[default]==1.5.2->-r ../init/requirements.txt (line 6)) (0.5.4)\n",
      "Requirement already satisfied: markdown>=2.6.8 in /home/somz/anaconda3/envs/Harvest-DQN/lib/python3.9/site-packages (from tensorboard==2.6.0->-r ../init/requirements.txt (line 7)) (3.3.4)\n",
      "Requirement already satisfied: google-auth<2,>=1.6.3 in /home/somz/anaconda3/envs/Harvest-DQN/lib/python3.9/site-packages (from tensorboard==2.6.0->-r ../init/requirements.txt (line 7)) (1.35.0)\n",
      "Requirement already satisfied: absl-py>=0.4 in /home/somz/anaconda3/envs/Harvest-DQN/lib/python3.9/site-packages (from tensorboard==2.6.0->-r ../init/requirements.txt (line 7)) (0.14.1)\n",
      "Requirement already satisfied: tensorboard-plugin-wit>=1.6.0 in /home/somz/anaconda3/envs/Harvest-DQN/lib/python3.9/site-packages (from tensorboard==2.6.0->-r ../init/requirements.txt (line 7)) (1.8.0)\n",
      "Requirement already satisfied: werkzeug>=0.11.15 in /home/somz/anaconda3/envs/Harvest-DQN/lib/python3.9/site-packages (from tensorboard==2.6.0->-r ../init/requirements.txt (line 7)) (2.0.2)\n",
      "Requirement already satisfied: wheel>=0.26 in /home/somz/anaconda3/envs/Harvest-DQN/lib/python3.9/site-packages (from tensorboard==2.6.0->-r ../init/requirements.txt (line 7)) (0.37.0)\n",
      "Requirement already satisfied: setuptools>=41.0.0 in /home/somz/anaconda3/envs/Harvest-DQN/lib/python3.9/site-packages (from tensorboard==2.6.0->-r ../init/requirements.txt (line 7)) (58.2.0)\n",
      "Requirement already satisfied: google-auth-oauthlib<0.5,>=0.4.1 in /home/somz/anaconda3/envs/Harvest-DQN/lib/python3.9/site-packages (from tensorboard==2.6.0->-r ../init/requirements.txt (line 7)) (0.4.6)\n"
     ]
    },
    {
     "name": "stdout",
     "output_type": "stream",
     "text": [
      "Requirement already satisfied: tensorboard-data-server<0.7.0,>=0.6.0 in /home/somz/anaconda3/envs/Harvest-DQN/lib/python3.9/site-packages (from tensorboard==2.6.0->-r ../init/requirements.txt (line 7)) (0.6.1)\n",
      "Requirement already satisfied: subprocess32>=3.5.3 in /home/somz/anaconda3/envs/Harvest-DQN/lib/python3.9/site-packages (from wandb==0.12.0->-r ../init/requirements.txt (line 9)) (3.5.4)\n",
      "Requirement already satisfied: sentry-sdk>=1.0.0 in /home/somz/anaconda3/envs/Harvest-DQN/lib/python3.9/site-packages (from wandb==0.12.0->-r ../init/requirements.txt (line 9)) (1.4.3)\n",
      "Requirement already satisfied: configparser>=3.8.1 in /home/somz/anaconda3/envs/Harvest-DQN/lib/python3.9/site-packages (from wandb==0.12.0->-r ../init/requirements.txt (line 9)) (5.0.2)\n",
      "Requirement already satisfied: promise<3,>=2.0 in /home/somz/anaconda3/envs/Harvest-DQN/lib/python3.9/site-packages (from wandb==0.12.0->-r ../init/requirements.txt (line 9)) (2.3)\n",
      "Requirement already satisfied: pathtools in /home/somz/anaconda3/envs/Harvest-DQN/lib/python3.9/site-packages (from wandb==0.12.0->-r ../init/requirements.txt (line 9)) (0.1.2)\n",
      "Requirement already satisfied: psutil>=5.0.0 in /home/somz/anaconda3/envs/Harvest-DQN/lib/python3.9/site-packages (from wandb==0.12.0->-r ../init/requirements.txt (line 9)) (5.8.0)\n",
      "Requirement already satisfied: GitPython>=1.0.0 in /home/somz/anaconda3/envs/Harvest-DQN/lib/python3.9/site-packages (from wandb==0.12.0->-r ../init/requirements.txt (line 9)) (3.1.24)\n",
      "Requirement already satisfied: six>=1.13.0 in /home/somz/anaconda3/envs/Harvest-DQN/lib/python3.9/site-packages (from wandb==0.12.0->-r ../init/requirements.txt (line 9)) (1.16.0)\n",
      "Requirement already satisfied: docker-pycreds>=0.4.0 in /home/somz/anaconda3/envs/Harvest-DQN/lib/python3.9/site-packages (from wandb==0.12.0->-r ../init/requirements.txt (line 9)) (0.4.0)\n",
      "Requirement already satisfied: shortuuid>=0.5.0 in /home/somz/anaconda3/envs/Harvest-DQN/lib/python3.9/site-packages (from wandb==0.12.0->-r ../init/requirements.txt (line 9)) (1.0.1)\n",
      "Requirement already satisfied: hiredis in /home/somz/anaconda3/envs/Harvest-DQN/lib/python3.9/site-packages (from aioredis<2->ray[default]==1.5.2->-r ../init/requirements.txt (line 6)) (2.0.0)\n",
      "Requirement already satisfied: async-timeout in /home/somz/anaconda3/envs/Harvest-DQN/lib/python3.9/site-packages (from aioredis<2->ray[default]==1.5.2->-r ../init/requirements.txt (line 6)) (3.0.1)\n",
      "Requirement already satisfied: gitdb<5,>=4.0.1 in /home/somz/anaconda3/envs/Harvest-DQN/lib/python3.9/site-packages (from GitPython>=1.0.0->wandb==0.12.0->-r ../init/requirements.txt (line 9)) (4.0.7)\n",
      "Requirement already satisfied: cachetools<5.0,>=2.0.0 in /home/somz/anaconda3/envs/Harvest-DQN/lib/python3.9/site-packages (from google-auth<2,>=1.6.3->tensorboard==2.6.0->-r ../init/requirements.txt (line 7)) (4.2.4)\n",
      "Requirement already satisfied: pyasn1-modules>=0.2.1 in /home/somz/anaconda3/envs/Harvest-DQN/lib/python3.9/site-packages (from google-auth<2,>=1.6.3->tensorboard==2.6.0->-r ../init/requirements.txt (line 7)) (0.2.8)\n",
      "Requirement already satisfied: rsa<5,>=3.1.4 in /home/somz/anaconda3/envs/Harvest-DQN/lib/python3.9/site-packages (from google-auth<2,>=1.6.3->tensorboard==2.6.0->-r ../init/requirements.txt (line 7)) (4.7.2)\n",
      "Requirement already satisfied: requests-oauthlib>=0.7.0 in /home/somz/anaconda3/envs/Harvest-DQN/lib/python3.9/site-packages (from google-auth-oauthlib<0.5,>=0.4.1->tensorboard==2.6.0->-r ../init/requirements.txt (line 7)) (1.3.0)\n",
      "Requirement already satisfied: charset-normalizer~=2.0.0 in /home/somz/anaconda3/envs/Harvest-DQN/lib/python3.9/site-packages (from requests->ray[default]==1.5.2->-r ../init/requirements.txt (line 6)) (2.0.0)\n",
      "Requirement already satisfied: urllib3<1.27,>=1.21.1 in /home/somz/anaconda3/envs/Harvest-DQN/lib/python3.9/site-packages (from requests->ray[default]==1.5.2->-r ../init/requirements.txt (line 6)) (1.26.7)\n",
      "Requirement already satisfied: idna<4,>=2.5 in /home/somz/anaconda3/envs/Harvest-DQN/lib/python3.9/site-packages (from requests->ray[default]==1.5.2->-r ../init/requirements.txt (line 6)) (3.1)\n",
      "Requirement already satisfied: certifi>=2017.4.17 in /home/somz/anaconda3/envs/Harvest-DQN/lib/python3.9/site-packages (from requests->ray[default]==1.5.2->-r ../init/requirements.txt (line 6)) (2021.10.8)\n",
      "Requirement already satisfied: yarl<2.0,>=1.0 in /home/somz/anaconda3/envs/Harvest-DQN/lib/python3.9/site-packages (from aiohttp->ray[default]==1.5.2->-r ../init/requirements.txt (line 6)) (1.7.0)\n",
      "Requirement already satisfied: multidict<7.0,>=4.5 in /home/somz/anaconda3/envs/Harvest-DQN/lib/python3.9/site-packages (from aiohttp->ray[default]==1.5.2->-r ../init/requirements.txt (line 6)) (5.2.0)\n",
      "Requirement already satisfied: attrs>=17.3.0 in /home/somz/anaconda3/envs/Harvest-DQN/lib/python3.9/site-packages (from aiohttp->ray[default]==1.5.2->-r ../init/requirements.txt (line 6)) (21.2.0)\n",
      "Requirement already satisfied: chardet<5.0,>=2.0 in /home/somz/anaconda3/envs/Harvest-DQN/lib/python3.9/site-packages (from aiohttp->ray[default]==1.5.2->-r ../init/requirements.txt (line 6)) (4.0.0)\n",
      "Requirement already satisfied: blessings>=1.6 in /home/somz/anaconda3/envs/Harvest-DQN/lib/python3.9/site-packages (from gpustat->ray[default]==1.5.2->-r ../init/requirements.txt (line 6)) (1.7)\n",
      "Requirement already satisfied: nvidia-ml-py3>=7.352.0 in /home/somz/anaconda3/envs/Harvest-DQN/lib/python3.9/site-packages (from gpustat->ray[default]==1.5.2->-r ../init/requirements.txt (line 6)) (7.352.0)\n",
      "Requirement already satisfied: debugpy<2.0,>=1.0.0 in /home/somz/anaconda3/envs/Harvest-DQN/lib/python3.9/site-packages (from ipykernel->jupyter==1.0.0->-r ../init/requirements.txt (line 2)) (1.4.1)\n",
      "Requirement already satisfied: ipython-genutils in /home/somz/anaconda3/envs/Harvest-DQN/lib/python3.9/site-packages (from ipykernel->jupyter==1.0.0->-r ../init/requirements.txt (line 2)) (0.2.0)\n",
      "Requirement already satisfied: matplotlib-inline<0.2.0,>=0.1.0 in /home/somz/anaconda3/envs/Harvest-DQN/lib/python3.9/site-packages (from ipykernel->jupyter==1.0.0->-r ../init/requirements.txt (line 2)) (0.1.3)\n",
      "Requirement already satisfied: traitlets<6.0,>=4.1.0 in /home/somz/anaconda3/envs/Harvest-DQN/lib/python3.9/site-packages (from ipykernel->jupyter==1.0.0->-r ../init/requirements.txt (line 2)) (5.1.0)\n",
      "Requirement already satisfied: tornado<7.0,>=4.2 in /home/somz/anaconda3/envs/Harvest-DQN/lib/python3.9/site-packages (from ipykernel->jupyter==1.0.0->-r ../init/requirements.txt (line 2)) (6.1)\n",
      "Requirement already satisfied: ipython<8.0,>=7.23.1 in /home/somz/anaconda3/envs/Harvest-DQN/lib/python3.9/site-packages (from ipykernel->jupyter==1.0.0->-r ../init/requirements.txt (line 2)) (7.28.0)\n",
      "Requirement already satisfied: jupyter-client<8.0 in /home/somz/anaconda3/envs/Harvest-DQN/lib/python3.9/site-packages (from ipykernel->jupyter==1.0.0->-r ../init/requirements.txt (line 2)) (7.0.6)\n",
      "Requirement already satisfied: nbformat>=4.2.0 in /home/somz/anaconda3/envs/Harvest-DQN/lib/python3.9/site-packages (from ipywidgets->jupyter==1.0.0->-r ../init/requirements.txt (line 2)) (5.1.3)\n",
      "Requirement already satisfied: jupyterlab-widgets>=1.0.0 in /home/somz/anaconda3/envs/Harvest-DQN/lib/python3.9/site-packages (from ipywidgets->jupyter==1.0.0->-r ../init/requirements.txt (line 2)) (1.0.2)\n",
      "Requirement already satisfied: widgetsnbextension~=3.5.0 in /home/somz/anaconda3/envs/Harvest-DQN/lib/python3.9/site-packages (from ipywidgets->jupyter==1.0.0->-r ../init/requirements.txt (line 2)) (3.5.1)\n",
      "Requirement already satisfied: pyrsistent!=0.17.0,!=0.17.1,!=0.17.2,>=0.14.0 in /home/somz/anaconda3/envs/Harvest-DQN/lib/python3.9/site-packages (from jsonschema->ray[default]==1.5.2->-r ../init/requirements.txt (line 6)) (0.17.3)\n",
      "Requirement already satisfied: pygments in /home/somz/anaconda3/envs/Harvest-DQN/lib/python3.9/site-packages (from jupyter-console->jupyter==1.0.0->-r ../init/requirements.txt (line 2)) (2.10.0)\n",
      "Requirement already satisfied: prompt-toolkit!=3.0.0,!=3.0.1,<3.1.0,>=2.0.0 in /home/somz/anaconda3/envs/Harvest-DQN/lib/python3.9/site-packages (from jupyter-console->jupyter==1.0.0->-r ../init/requirements.txt (line 2)) (3.0.20)\n",
      "Requirement already satisfied: testpath in /home/somz/anaconda3/envs/Harvest-DQN/lib/python3.9/site-packages (from nbconvert->jupyter==1.0.0->-r ../init/requirements.txt (line 2)) (0.5.0)\n",
      "Requirement already satisfied: nbclient<0.6.0,>=0.5.0 in /home/somz/anaconda3/envs/Harvest-DQN/lib/python3.9/site-packages (from nbconvert->jupyter==1.0.0->-r ../init/requirements.txt (line 2)) (0.5.4)\n",
      "Requirement already satisfied: pandocfilters>=1.4.1 in /home/somz/anaconda3/envs/Harvest-DQN/lib/python3.9/site-packages (from nbconvert->jupyter==1.0.0->-r ../init/requirements.txt (line 2)) (1.5.0)\n",
      "Requirement already satisfied: defusedxml in /home/somz/anaconda3/envs/Harvest-DQN/lib/python3.9/site-packages (from nbconvert->jupyter==1.0.0->-r ../init/requirements.txt (line 2)) (0.7.1)\n",
      "Requirement already satisfied: jupyterlab-pygments in /home/somz/anaconda3/envs/Harvest-DQN/lib/python3.9/site-packages (from nbconvert->jupyter==1.0.0->-r ../init/requirements.txt (line 2)) (0.1.2)\n",
      "Requirement already satisfied: jupyter-core in /home/somz/anaconda3/envs/Harvest-DQN/lib/python3.9/site-packages (from nbconvert->jupyter==1.0.0->-r ../init/requirements.txt (line 2)) (4.8.1)\n",
      "Requirement already satisfied: jinja2>=2.4 in /home/somz/anaconda3/envs/Harvest-DQN/lib/python3.9/site-packages (from nbconvert->jupyter==1.0.0->-r ../init/requirements.txt (line 2)) (3.0.2)\n",
      "Requirement already satisfied: bleach in /home/somz/anaconda3/envs/Harvest-DQN/lib/python3.9/site-packages (from nbconvert->jupyter==1.0.0->-r ../init/requirements.txt (line 2)) (4.1.0)\n",
      "Requirement already satisfied: mistune<2,>=0.8.1 in /home/somz/anaconda3/envs/Harvest-DQN/lib/python3.9/site-packages (from nbconvert->jupyter==1.0.0->-r ../init/requirements.txt (line 2)) (0.8.4)\n",
      "Requirement already satisfied: entrypoints>=0.2.2 in /home/somz/anaconda3/envs/Harvest-DQN/lib/python3.9/site-packages (from nbconvert->jupyter==1.0.0->-r ../init/requirements.txt (line 2)) (0.3)\n"
     ]
    },
    {
     "name": "stdout",
     "output_type": "stream",
     "text": [
      "Requirement already satisfied: Send2Trash>=1.5.0 in /home/somz/anaconda3/envs/Harvest-DQN/lib/python3.9/site-packages (from notebook->jupyter==1.0.0->-r ../init/requirements.txt (line 2)) (1.8.0)\n",
      "Requirement already satisfied: pyzmq>=17 in /home/somz/anaconda3/envs/Harvest-DQN/lib/python3.9/site-packages (from notebook->jupyter==1.0.0->-r ../init/requirements.txt (line 2)) (22.3.0)\n",
      "Requirement already satisfied: terminado>=0.8.3 in /home/somz/anaconda3/envs/Harvest-DQN/lib/python3.9/site-packages (from notebook->jupyter==1.0.0->-r ../init/requirements.txt (line 2)) (0.12.1)\n",
      "Requirement already satisfied: argon2-cffi in /home/somz/anaconda3/envs/Harvest-DQN/lib/python3.9/site-packages (from notebook->jupyter==1.0.0->-r ../init/requirements.txt (line 2)) (21.1.0)\n",
      "Requirement already satisfied: opencensus-context==0.1.2 in /home/somz/anaconda3/envs/Harvest-DQN/lib/python3.9/site-packages (from opencensus->ray[default]==1.5.2->-r ../init/requirements.txt (line 6)) (0.1.2)\n",
      "Requirement already satisfied: google-api-core<3.0.0,>=1.0.0 in /home/somz/anaconda3/envs/Harvest-DQN/lib/python3.9/site-packages (from opencensus->ray[default]==1.5.2->-r ../init/requirements.txt (line 6)) (2.1.1)\n",
      "Requirement already satisfied: qtpy in /home/somz/anaconda3/envs/Harvest-DQN/lib/python3.9/site-packages (from qtconsole->jupyter==1.0.0->-r ../init/requirements.txt (line 2)) (1.11.2)\n",
      "Requirement already satisfied: smmap<5,>=3.0.1 in /home/somz/anaconda3/envs/Harvest-DQN/lib/python3.9/site-packages (from gitdb<5,>=4.0.1->GitPython>=1.0.0->wandb==0.12.0->-r ../init/requirements.txt (line 9)) (4.0.0)\n",
      "Requirement already satisfied: googleapis-common-protos<2.0dev,>=1.6.0 in /home/somz/anaconda3/envs/Harvest-DQN/lib/python3.9/site-packages (from google-api-core<3.0.0,>=1.0.0->opencensus->ray[default]==1.5.2->-r ../init/requirements.txt (line 6)) (1.53.0)\n",
      "Requirement already satisfied: pickleshare in /home/somz/anaconda3/envs/Harvest-DQN/lib/python3.9/site-packages (from ipython<8.0,>=7.23.1->ipykernel->jupyter==1.0.0->-r ../init/requirements.txt (line 2)) (0.7.5)\n",
      "Requirement already satisfied: backcall in /home/somz/anaconda3/envs/Harvest-DQN/lib/python3.9/site-packages (from ipython<8.0,>=7.23.1->ipykernel->jupyter==1.0.0->-r ../init/requirements.txt (line 2)) (0.2.0)\n",
      "Requirement already satisfied: jedi>=0.16 in /home/somz/anaconda3/envs/Harvest-DQN/lib/python3.9/site-packages (from ipython<8.0,>=7.23.1->ipykernel->jupyter==1.0.0->-r ../init/requirements.txt (line 2)) (0.18.0)\n",
      "Requirement already satisfied: pexpect>4.3 in /home/somz/anaconda3/envs/Harvest-DQN/lib/python3.9/site-packages (from ipython<8.0,>=7.23.1->ipykernel->jupyter==1.0.0->-r ../init/requirements.txt (line 2)) (4.8.0)\n",
      "Requirement already satisfied: decorator in /home/somz/anaconda3/envs/Harvest-DQN/lib/python3.9/site-packages (from ipython<8.0,>=7.23.1->ipykernel->jupyter==1.0.0->-r ../init/requirements.txt (line 2)) (5.1.0)\n",
      "Requirement already satisfied: MarkupSafe>=2.0 in /home/somz/anaconda3/envs/Harvest-DQN/lib/python3.9/site-packages (from jinja2>=2.4->nbconvert->jupyter==1.0.0->-r ../init/requirements.txt (line 2)) (2.0.1)\n",
      "Requirement already satisfied: nest-asyncio>=1.5 in /home/somz/anaconda3/envs/Harvest-DQN/lib/python3.9/site-packages (from jupyter-client<8.0->ipykernel->jupyter==1.0.0->-r ../init/requirements.txt (line 2)) (1.5.1)\n",
      "Requirement already satisfied: wcwidth in /home/somz/anaconda3/envs/Harvest-DQN/lib/python3.9/site-packages (from prompt-toolkit!=3.0.0,!=3.0.1,<3.1.0,>=2.0.0->jupyter-console->jupyter==1.0.0->-r ../init/requirements.txt (line 2)) (0.2.5)\n",
      "Requirement already satisfied: pyasn1<0.5.0,>=0.4.6 in /home/somz/anaconda3/envs/Harvest-DQN/lib/python3.9/site-packages (from pyasn1-modules>=0.2.1->google-auth<2,>=1.6.3->tensorboard==2.6.0->-r ../init/requirements.txt (line 7)) (0.4.8)\n",
      "Requirement already satisfied: oauthlib>=3.0.0 in /home/somz/anaconda3/envs/Harvest-DQN/lib/python3.9/site-packages (from requests-oauthlib>=0.7.0->google-auth-oauthlib<0.5,>=0.4.1->tensorboard==2.6.0->-r ../init/requirements.txt (line 7)) (3.1.1)\n",
      "Requirement already satisfied: ptyprocess in /home/somz/anaconda3/envs/Harvest-DQN/lib/python3.9/site-packages (from terminado>=0.8.3->notebook->jupyter==1.0.0->-r ../init/requirements.txt (line 2)) (0.7.0)\n",
      "Requirement already satisfied: cffi>=1.0.0 in /home/somz/anaconda3/envs/Harvest-DQN/lib/python3.9/site-packages (from argon2-cffi->notebook->jupyter==1.0.0->-r ../init/requirements.txt (line 2)) (1.14.6)\n",
      "Requirement already satisfied: webencodings in /home/somz/anaconda3/envs/Harvest-DQN/lib/python3.9/site-packages (from bleach->nbconvert->jupyter==1.0.0->-r ../init/requirements.txt (line 2)) (0.5.1)\n",
      "Requirement already satisfied: packaging in /home/somz/anaconda3/envs/Harvest-DQN/lib/python3.9/site-packages (from bleach->nbconvert->jupyter==1.0.0->-r ../init/requirements.txt (line 2)) (21.0)\n",
      "Requirement already satisfied: pycparser in /home/somz/anaconda3/envs/Harvest-DQN/lib/python3.9/site-packages (from cffi>=1.0.0->argon2-cffi->notebook->jupyter==1.0.0->-r ../init/requirements.txt (line 2)) (2.20)\n",
      "Requirement already satisfied: parso<0.9.0,>=0.8.0 in /home/somz/anaconda3/envs/Harvest-DQN/lib/python3.9/site-packages (from jedi>=0.16->ipython<8.0,>=7.23.1->ipykernel->jupyter==1.0.0->-r ../init/requirements.txt (line 2)) (0.8.2)\n",
      "Obtaining file:///home/somz/cpr-appropriation/src/gym_cpr_grid\n",
      "  Preparing metadata (setup.py) ... \u001b[?25ldone\n",
      "\u001b[?25hRequirement already satisfied: gym in /home/somz/anaconda3/envs/Harvest-DQN/lib/python3.9/site-packages (from gym-cpr-grid==0.0.1) (0.18.3)\n",
      "Requirement already satisfied: pyglet<=1.5.15,>=1.4.0 in /home/somz/anaconda3/envs/Harvest-DQN/lib/python3.9/site-packages (from gym->gym-cpr-grid==0.0.1) (1.5.15)\n",
      "Requirement already satisfied: Pillow<=8.2.0 in /home/somz/anaconda3/envs/Harvest-DQN/lib/python3.9/site-packages (from gym->gym-cpr-grid==0.0.1) (8.2.0)\n",
      "Requirement already satisfied: scipy in /home/somz/anaconda3/envs/Harvest-DQN/lib/python3.9/site-packages (from gym->gym-cpr-grid==0.0.1) (1.7.1)\n",
      "Requirement already satisfied: numpy>=1.10.4 in /home/somz/anaconda3/envs/Harvest-DQN/lib/python3.9/site-packages (from gym->gym-cpr-grid==0.0.1) (1.21.2)\n",
      "Requirement already satisfied: cloudpickle<1.7.0,>=1.2.0 in /home/somz/anaconda3/envs/Harvest-DQN/lib/python3.9/site-packages (from gym->gym-cpr-grid==0.0.1) (1.6.0)\n",
      "Installing collected packages: gym-cpr-grid\n",
      "  Attempting uninstall: gym-cpr-grid\n",
      "    Found existing installation: gym-cpr-grid 0.0.1\n",
      "    Uninstalling gym-cpr-grid-0.0.1:\n",
      "      Successfully uninstalled gym-cpr-grid-0.0.1\n",
      "  Running setup.py develop for gym-cpr-grid\n",
      "Successfully installed gym-cpr-grid-0.0.1\n"
     ]
    }
   ],
   "source": [
    "# !pip install -r ../init/requirements.txt\n",
    "# !pip install -e ../src/gym_cpr_grid"
   ]
  },
  {
   "cell_type": "code",
   "execution_count": 3,
   "id": "ae40e389",
   "metadata": {},
   "outputs": [],
   "source": [
    "import numpy as np\n",
    "import gym\n",
    "import ray\n",
    "import matplotlib.pyplot as plt\n",
    "from IPython import display\n",
    "from src import rllib"
   ]
  },
  {
   "cell_type": "markdown",
   "id": "c5713dd1",
   "metadata": {},
   "source": [
    "## Utilities"
   ]
  },
  {
   "cell_type": "markdown",
   "id": "d0e0b0a5",
   "metadata": {},
   "source": [
    "The cell down below defines common variables to be used throughout the notebook."
   ]
  },
  {
   "cell_type": "code",
   "execution_count": 4,
   "id": "66e7078e",
   "metadata": {},
   "outputs": [],
   "source": [
    "n_agents = 4\n",
    "grid_width = 25 \n",
    "grid_height = 7\n",
    "max_episodes = 1000\n",
    "num_workers = 4\n",
    "seed = 42\n",
    "tagging_ability = True\n",
    "gifting_mechanism = 0\n",
    "rllib_log_dir = \"../rllib_logs/\"\n",
    "wandb_api_key = \"18638505c190d67f1040f6945fe54ab128a99dde\"\n",
    "wandb_project = \"cpr-appropriation\""
   ]
  },
  {
   "cell_type": "code",
   "execution_count": 5,
   "id": "38c1ba7e",
   "metadata": {},
   "outputs": [
    {
     "name": "stderr",
     "output_type": "stream",
     "text": [
      "2021-10-19 16:57:31,707\tINFO services.py:1245 -- View the Ray dashboard at \u001b[1m\u001b[32mhttp://127.0.0.1:8265\u001b[39m\u001b[22m\n"
     ]
    },
    {
     "data": {
      "text/plain": [
       "{'node_ip_address': '192.168.2.22',\n",
       " 'raylet_ip_address': '192.168.2.22',\n",
       " 'redis_address': '192.168.2.22:6379',\n",
       " 'object_store_address': '/tmp/ray/session_2021-10-19_16-57-30_338928_6844/sockets/plasma_store',\n",
       " 'raylet_socket_name': '/tmp/ray/session_2021-10-19_16-57-30_338928_6844/sockets/raylet',\n",
       " 'webui_url': '127.0.0.1:8265',\n",
       " 'session_dir': '/tmp/ray/session_2021-10-19_16-57-30_338928_6844',\n",
       " 'metrics_export_port': 61407,\n",
       " 'node_id': 'b76baf16f814b44fe997b82ec78f782497aadcbd8c89ac053f73109f'}"
      ]
     },
     "execution_count": 5,
     "metadata": {},
     "output_type": "execute_result"
    }
   ],
   "source": [
    "ray.shutdown()\n",
    "ray.init(local_mode=True)"
   ]
  },
  {
   "cell_type": "markdown",
   "id": "ca89d8a6",
   "metadata": {},
   "source": [
    "## Random"
   ]
  },
  {
   "cell_type": "markdown",
   "id": "d06b27c4",
   "metadata": {},
   "source": [
    "This section shows a simple set of random agents sifting through the environment, as a way to show the general Gym workflow and the how rendering works."
   ]
  },
  {
   "cell_type": "code",
   "execution_count": 7,
   "id": "9bc6d516",
   "metadata": {},
   "outputs": [],
   "source": [
    "env = gym.make(\n",
    "    'gym_cpr_grid:CPRGridEnv-v0', \n",
    "    n_agents=n_agents, \n",
    "    grid_width=grid_width, \n",
    "    grid_height=grid_height,\n",
    "    initial_resource_probability=0.2,\n",
    "    #fov_squares_front=21,\n",
    "    global_obs=True\n",
    ")"
   ]
  },
  {
   "cell_type": "markdown",
   "id": "1acc3151",
   "metadata": {},
   "source": [
    "## DQN baseline"
   ]
  },
  {
   "cell_type": "markdown",
   "id": "a1488a9b",
   "metadata": {},
   "source": [
    "In this section we train the DQN baseline reported in the original paper, through RLlib's implementations, so as to understand whether or not our custom environment is implemented correctly."
   ]
  },
  {
   "cell_type": "code",
   "execution_count": 10,
   "id": "92f47451",
   "metadata": {},
   "outputs": [
    {
     "name": "stderr",
     "output_type": "stream",
     "text": [
      "2021-10-19 15:27:44,172\tINFO trainer.py:718 -- Current log_level is WARN. For more information, set 'log_level': 'INFO' / 'DEBUG' or use the -v and -vv flags.\n",
      "2021-10-19 15:27:44,479\tWARNING util.py:55 -- Install gputil for GPU system monitoring.\n"
     ]
    },
    {
     "name": "stdout",
     "output_type": "stream",
     "text": [
      "(21, 21, 3)\n",
      "float64\n",
      "0.0 3.0\n",
      "(21, 21, 3)\n",
      "float64\n",
      "0.0 3.0\n",
      "(21, 21, 3)\n",
      "float64\n",
      "0.0 3.0\n",
      "(21, 21, 3)\n",
      "float64\n",
      "0.0 3.0\n"
     ]
    },
    {
     "name": "stderr",
     "output_type": "stream",
     "text": [
      "2021-10-19 15:27:44,578\tERROR trial_runner.py:773 -- Trial DQN_gym_cpr_grid:CPRGridEnv-v0_a2068_00000: Error processing event.\n",
      "Traceback (most recent call last):\n",
      "  File \"/home/somz/anaconda3/envs/Harvest-DQN/lib/python3.9/site-packages/ray/tune/trial_runner.py\", line 739, in _process_trial\n",
      "    results = self.trial_executor.fetch_result(trial)\n",
      "  File \"/home/somz/anaconda3/envs/Harvest-DQN/lib/python3.9/site-packages/ray/tune/ray_trial_executor.py\", line 729, in fetch_result\n",
      "    result = ray.get(trial_future[0], timeout=DEFAULT_GET_TIMEOUT)\n",
      "  File \"/home/somz/anaconda3/envs/Harvest-DQN/lib/python3.9/site-packages/ray/_private/client_mode_hook.py\", line 82, in wrapper\n",
      "    return func(*args, **kwargs)\n",
      "  File \"/home/somz/anaconda3/envs/Harvest-DQN/lib/python3.9/site-packages/ray/worker.py\", line 1564, in get\n",
      "    raise value.as_instanceof_cause()\n",
      "ray.exceptions.RayTaskError(ValueError): \u001b[36mray::DQN.train()\u001b[39m (pid=28214, ip=192.168.2.22)\n",
      "  File \"python/ray/_raylet.pyx\", line 534, in ray._raylet.execute_task\n",
      "  File \"python/ray/_raylet.pyx\", line 484, in ray._raylet.execute_task.function_executor\n",
      "  File \"/home/somz/anaconda3/envs/Harvest-DQN/lib/python3.9/site-packages/ray/_private/function_manager.py\", line 563, in actor_method_executor\n",
      "    return method(__ray_actor, *args, **kwargs)\n",
      "  File \"/home/somz/anaconda3/envs/Harvest-DQN/lib/python3.9/site-packages/ray/rllib/agents/trainer.py\", line 640, in train\n",
      "    raise e\n",
      "  File \"/home/somz/anaconda3/envs/Harvest-DQN/lib/python3.9/site-packages/ray/rllib/agents/trainer.py\", line 629, in train\n",
      "    result = Trainable.train(self)\n",
      "  File \"/home/somz/anaconda3/envs/Harvest-DQN/lib/python3.9/site-packages/ray/tune/trainable.py\", line 237, in train\n",
      "    result = self.step()\n",
      "  File \"/home/somz/anaconda3/envs/Harvest-DQN/lib/python3.9/site-packages/ray/rllib/agents/trainer_template.py\", line 170, in step\n",
      "    res = next(self.train_exec_impl)\n",
      "  File \"/home/somz/anaconda3/envs/Harvest-DQN/lib/python3.9/site-packages/ray/util/iter.py\", line 756, in __next__\n",
      "    return next(self.built_iterator)\n",
      "  File \"/home/somz/anaconda3/envs/Harvest-DQN/lib/python3.9/site-packages/ray/util/iter.py\", line 783, in apply_foreach\n",
      "    for item in it:\n",
      "  File \"/home/somz/anaconda3/envs/Harvest-DQN/lib/python3.9/site-packages/ray/util/iter.py\", line 843, in apply_filter\n",
      "    for item in it:\n",
      "  File \"/home/somz/anaconda3/envs/Harvest-DQN/lib/python3.9/site-packages/ray/util/iter.py\", line 843, in apply_filter\n",
      "    for item in it:\n",
      "  File \"/home/somz/anaconda3/envs/Harvest-DQN/lib/python3.9/site-packages/ray/util/iter.py\", line 783, in apply_foreach\n",
      "    for item in it:\n",
      "  File \"/home/somz/anaconda3/envs/Harvest-DQN/lib/python3.9/site-packages/ray/util/iter.py\", line 843, in apply_filter\n",
      "    for item in it:\n",
      "  File \"/home/somz/anaconda3/envs/Harvest-DQN/lib/python3.9/site-packages/ray/util/iter.py\", line 1075, in build_union\n",
      "    item = next(it)\n",
      "  File \"/home/somz/anaconda3/envs/Harvest-DQN/lib/python3.9/site-packages/ray/util/iter.py\", line 756, in __next__\n",
      "    return next(self.built_iterator)\n",
      "  File \"/home/somz/anaconda3/envs/Harvest-DQN/lib/python3.9/site-packages/ray/util/iter.py\", line 783, in apply_foreach\n",
      "    for item in it:\n",
      "  File \"/home/somz/anaconda3/envs/Harvest-DQN/lib/python3.9/site-packages/ray/util/iter.py\", line 783, in apply_foreach\n",
      "    for item in it:\n",
      "  File \"/home/somz/anaconda3/envs/Harvest-DQN/lib/python3.9/site-packages/ray/util/iter.py\", line 783, in apply_foreach\n",
      "    for item in it:\n",
      "  [Previous line repeated 1 more time]\n",
      "  File \"/home/somz/anaconda3/envs/Harvest-DQN/lib/python3.9/site-packages/ray/util/iter.py\", line 471, in base_iterator\n",
      "    yield ray.get(futures, timeout=timeout)\n",
      "  File \"/home/somz/anaconda3/envs/Harvest-DQN/lib/python3.9/site-packages/ray/_private/client_mode_hook.py\", line 82, in wrapper\n",
      "    return func(*args, **kwargs)\n",
      "ray.exceptions.RayTaskError(ValueError): \u001b[36mray::RolloutWorker.par_iter_next()\u001b[39m (pid=28214, ip=192.168.2.22)\n",
      "  File \"python/ray/_raylet.pyx\", line 534, in ray._raylet.execute_task\n",
      "  File \"python/ray/_raylet.pyx\", line 484, in ray._raylet.execute_task.function_executor\n",
      "  File \"/home/somz/anaconda3/envs/Harvest-DQN/lib/python3.9/site-packages/ray/_private/function_manager.py\", line 563, in actor_method_executor\n",
      "    return method(__ray_actor, *args, **kwargs)\n",
      "  File \"/home/somz/anaconda3/envs/Harvest-DQN/lib/python3.9/site-packages/ray/util/iter.py\", line 1151, in par_iter_next\n",
      "    return next(self.local_it)\n",
      "  File \"/home/somz/anaconda3/envs/Harvest-DQN/lib/python3.9/site-packages/ray/rllib/evaluation/rollout_worker.py\", line 339, in gen_rollouts\n",
      "    yield self.sample()\n",
      "  File \"/home/somz/anaconda3/envs/Harvest-DQN/lib/python3.9/site-packages/ray/rllib/evaluation/rollout_worker.py\", line 740, in sample\n",
      "    batches = [self.input_reader.next()]\n",
      "  File \"/home/somz/anaconda3/envs/Harvest-DQN/lib/python3.9/site-packages/ray/rllib/evaluation/sampler.py\", line 101, in next\n",
      "    batches = [self.get_data()]\n",
      "  File \"/home/somz/anaconda3/envs/Harvest-DQN/lib/python3.9/site-packages/ray/rllib/evaluation/sampler.py\", line 231, in get_data\n",
      "    item = next(self.rollout_provider)\n",
      "  File \"/home/somz/anaconda3/envs/Harvest-DQN/lib/python3.9/site-packages/ray/rllib/evaluation/sampler.py\", line 601, in _env_runner\n",
      "    _process_observations(\n",
      "  File \"/home/somz/anaconda3/envs/Harvest-DQN/lib/python3.9/site-packages/ray/rllib/evaluation/sampler.py\", line 820, in _process_observations\n",
      "    prep_obs: EnvObsType = _get_or_raise(worker.preprocessors,\n",
      "  File \"/home/somz/anaconda3/envs/Harvest-DQN/lib/python3.9/site-packages/ray/rllib/models/preprocessors.py\", line 192, in transform\n",
      "    self.check_shape(observation)\n",
      "  File \"/home/somz/anaconda3/envs/Harvest-DQN/lib/python3.9/site-packages/ray/rllib/models/preprocessors.py\", line 71, in check_shape\n",
      "    raise ValueError(\n",
      "ValueError: ('Observation ({}) outside given space ({})!', array([[[1.        , 0.84313725, 0.        ],\n",
      "        [1.        , 0.84313725, 0.        ],\n",
      "        [1.        , 0.84313725, 0.        ],\n",
      "        ...,\n",
      "        [1.        , 0.84313725, 0.        ],\n",
      "        [1.        , 0.84313725, 0.        ],\n",
      "        [1.        , 0.84313725, 0.        ]],\n",
      "\n",
      "       [[1.        , 0.84313725, 0.        ],\n",
      "        [1.        , 0.84313725, 0.        ],\n",
      "        [1.        , 0.84313725, 0.        ],\n",
      "        ...,\n",
      "        [1.        , 0.84313725, 0.        ],\n",
      "        [1.        , 0.84313725, 0.        ],\n",
      "        [1.        , 0.84313725, 0.        ]],\n",
      "\n",
      "       [[1.        , 0.84313725, 0.        ],\n",
      "        [1.        , 0.84313725, 0.        ],\n",
      "        [1.        , 0.84313725, 0.        ],\n",
      "        ...,\n",
      "        [1.        , 0.84313725, 0.        ],\n",
      "        [1.        , 0.84313725, 0.        ],\n",
      "        [1.        , 0.84313725, 0.        ]],\n",
      "\n",
      "       ...,\n",
      "\n",
      "       [[1.        , 0.84313725, 0.        ],\n",
      "        [1.        , 0.84313725, 0.        ],\n",
      "        [1.        , 0.84313725, 0.        ],\n",
      "        ...,\n",
      "        [1.        , 0.84313725, 0.        ],\n",
      "        [1.        , 0.84313725, 0.        ],\n",
      "        [1.        , 0.84313725, 0.        ]],\n",
      "\n",
      "       [[0.        , 0.        , 0.        ],\n",
      "        [0.        , 0.        , 0.        ],\n",
      "        [0.        , 0.        , 0.        ],\n",
      "        ...,\n",
      "        [1.        , 0.84313725, 0.        ],\n",
      "        [1.        , 0.84313725, 0.        ],\n",
      "        [1.        , 0.84313725, 0.        ]],\n",
      "\n",
      "       [[0.        , 0.        , 0.        ],\n",
      "        [0.        , 0.        , 0.        ],\n",
      "        [0.        , 0.        , 0.        ],\n",
      "        ...,\n",
      "        [1.        , 0.84313725, 0.        ],\n",
      "        [1.        , 0.84313725, 0.        ],\n",
      "        [1.        , 0.84313725, 0.        ]]]), Box(0.0, 1.0, (21, 21, 3), float32))\n"
     ]
    },
    {
     "name": "stdout",
     "output_type": "stream",
     "text": [
      "== Status ==\n",
      "Memory usage on this node: 6.5/7.2 GiB: ***LOW MEMORY*** less than 10% of the memory on this node is available for use. This can cause unexpected crashes. Consider reducing the memory used by your application or reducing the Ray object store size by setting `object_store_memory` when calling `ray.init`.\n",
      "Using FIFO scheduling algorithm.\n",
      "Resources requested: 5.0/8 CPUs, 0/0 GPUs, 0.0/3.04 GiB heap, 0.0/1.52 GiB objects\n",
      "Result logdir: /home/somz/cpr-appropriation/rllib_logs/DQN_2021-10-19_15-27-43\n",
      "Number of trials: 1/1 (1 RUNNING)\n",
      "+--------------------------------------------+----------+-------+\n",
      "| Trial name                                 | status   | loc   |\n",
      "|--------------------------------------------+----------+-------|\n",
      "| DQN_gym_cpr_grid:CPRGridEnv-v0_a2068_00000 | RUNNING  |       |\n",
      "+--------------------------------------------+----------+-------+\n",
      "\n",
      "\n",
      "Result for DQN_gym_cpr_grid:CPRGridEnv-v0_a2068_00000:\n",
      "  {}\n",
      "  \n"
     ]
    },
    {
     "name": "stderr",
     "output_type": "stream",
     "text": [
      "\u001b[34m\u001b[1mwandb\u001b[0m: Currently logged in as: \u001b[33msomz\u001b[0m (use `wandb login --relogin` to force relogin)\n",
      "\u001b[34m\u001b[1mwandb\u001b[0m: wandb version 0.12.4 is available!  To upgrade, please run:\n",
      "\u001b[34m\u001b[1mwandb\u001b[0m:  $ pip install wandb --upgrade\n",
      "\u001b[34m\u001b[1mwandb\u001b[0m: Tracking run with wandb version 0.12.0\n",
      "\u001b[34m\u001b[1mwandb\u001b[0m: Syncing run \u001b[33mDQN_gym_cpr_grid:CPRGridEnv-v0_a2068_00000\u001b[0m\n",
      "\u001b[34m\u001b[1mwandb\u001b[0m: ⭐️ View project at \u001b[34m\u001b[4mhttps://wandb.ai/somz/cpr-appropriation\u001b[0m\n",
      "\u001b[34m\u001b[1mwandb\u001b[0m: 🚀 View run at \u001b[34m\u001b[4mhttps://wandb.ai/somz/cpr-appropriation/runs/a2068_00000\u001b[0m\n",
      "\u001b[34m\u001b[1mwandb\u001b[0m: Run data is saved locally in /home/somz/cpr-appropriation/notebooks/wandb/run-20211019_152744-a2068_00000\n",
      "\u001b[34m\u001b[1mwandb\u001b[0m: Run `wandb offline` to turn off syncing.\n"
     ]
    },
    {
     "name": "stdout",
     "output_type": "stream",
     "text": [
      "\n",
      "\n"
     ]
    },
    {
     "name": "stderr",
     "output_type": "stream",
     "text": [
      "\u001b[34m\u001b[1mwandb\u001b[0m: Waiting for W&B process to finish, PID 28580\n",
      "\u001b[34m\u001b[1mwandb\u001b[0m: Program ended successfully.\n",
      "\u001b[34m\u001b[1mwandb\u001b[0m:                                                                                \n",
      "\u001b[34m\u001b[1mwandb\u001b[0m: Find user logs for this run at: /home/somz/cpr-appropriation/notebooks/wandb/run-20211019_152744-a2068_00000/logs/debug.log\n",
      "\u001b[34m\u001b[1mwandb\u001b[0m: Find internal logs for this run at: /home/somz/cpr-appropriation/notebooks/wandb/run-20211019_152744-a2068_00000/logs/debug-internal.log\n",
      "\u001b[34m\u001b[1mwandb\u001b[0m: Synced 5 W&B file(s), 0 media file(s), 0 artifact file(s) and 0 other file(s)\n",
      "\u001b[34m\u001b[1mwandb\u001b[0m: \n",
      "\u001b[34m\u001b[1mwandb\u001b[0m: Synced \u001b[33mDQN_gym_cpr_grid:CPRGridEnv-v0_a2068_00000\u001b[0m: \u001b[34mhttps://wandb.ai/somz/cpr-appropriation/runs/a2068_00000\u001b[0m\n",
      "2021-10-19 15:27:54,303\tWARNING util.py:163 -- The `process_trial` operation took 9.726 s, which may be a performance bottleneck.\n"
     ]
    },
    {
     "name": "stdout",
     "output_type": "stream",
     "text": [
      "== Status ==\n",
      "Memory usage on this node: 6.6/7.2 GiB: ***LOW MEMORY*** less than 10% of the memory on this node is available for use. This can cause unexpected crashes. Consider reducing the memory used by your application or reducing the Ray object store size by setting `object_store_memory` when calling `ray.init`.\n",
      "Using FIFO scheduling algorithm.\n",
      "Resources requested: 0/8 CPUs, 0/0 GPUs, 0.0/3.04 GiB heap, 0.0/1.52 GiB objects\n",
      "Result logdir: /home/somz/cpr-appropriation/rllib_logs/DQN_2021-10-19_15-27-43\n",
      "Number of trials: 1/1 (1 ERROR)\n",
      "+--------------------------------------------+----------+-------+\n",
      "| Trial name                                 | status   | loc   |\n",
      "|--------------------------------------------+----------+-------|\n",
      "| DQN_gym_cpr_grid:CPRGridEnv-v0_a2068_00000 | ERROR    |       |\n",
      "+--------------------------------------------+----------+-------+\n",
      "Number of errored trials: 1\n",
      "+--------------------------------------------+--------------+--------------------------------------------------------------------------------------------------------------------------------------------+\n",
      "| Trial name                                 |   # failures | error file                                                                                                                                 |\n",
      "|--------------------------------------------+--------------+--------------------------------------------------------------------------------------------------------------------------------------------|\n",
      "| DQN_gym_cpr_grid:CPRGridEnv-v0_a2068_00000 |            1 | /home/somz/cpr-appropriation/rllib_logs/DQN_2021-10-19_15-27-43/DQN_gym_cpr_grid:CPRGridEnv-v0_a2068_00000_0_2021-10-19_15-27-44/error.txt |\n",
      "+--------------------------------------------+--------------+--------------------------------------------------------------------------------------------------------------------------------------------+\n",
      "\n",
      "== Status ==\n",
      "Memory usage on this node: 6.6/7.2 GiB: ***LOW MEMORY*** less than 10% of the memory on this node is available for use. This can cause unexpected crashes. Consider reducing the memory used by your application or reducing the Ray object store size by setting `object_store_memory` when calling `ray.init`.\n",
      "Using FIFO scheduling algorithm.\n",
      "Resources requested: 0/8 CPUs, 0/0 GPUs, 0.0/3.04 GiB heap, 0.0/1.52 GiB objects\n",
      "Result logdir: /home/somz/cpr-appropriation/rllib_logs/DQN_2021-10-19_15-27-43\n",
      "Number of trials: 1/1 (1 ERROR)\n",
      "+--------------------------------------------+----------+-------+\n",
      "| Trial name                                 | status   | loc   |\n",
      "|--------------------------------------------+----------+-------|\n",
      "| DQN_gym_cpr_grid:CPRGridEnv-v0_a2068_00000 | ERROR    |       |\n",
      "+--------------------------------------------+----------+-------+\n",
      "Number of errored trials: 1\n",
      "+--------------------------------------------+--------------+--------------------------------------------------------------------------------------------------------------------------------------------+\n",
      "| Trial name                                 |   # failures | error file                                                                                                                                 |\n",
      "|--------------------------------------------+--------------+--------------------------------------------------------------------------------------------------------------------------------------------|\n",
      "| DQN_gym_cpr_grid:CPRGridEnv-v0_a2068_00000 |            1 | /home/somz/cpr-appropriation/rllib_logs/DQN_2021-10-19_15-27-43/DQN_gym_cpr_grid:CPRGridEnv-v0_a2068_00000_0_2021-10-19_15-27-44/error.txt |\n",
      "+--------------------------------------------+--------------+--------------------------------------------------------------------------------------------------------------------------------------------+\n",
      "\n"
     ]
    },
    {
     "ename": "TuneError",
     "evalue": "('Trials did not complete', [DQN_gym_cpr_grid:CPRGridEnv-v0_a2068_00000])",
     "output_type": "error",
     "traceback": [
      "\u001b[0;31m---------------------------------------------------------------------------\u001b[0m",
      "\u001b[0;31mTuneError\u001b[0m                                 Traceback (most recent call last)",
      "\u001b[0;32m/tmp/ipykernel_28214/3860689566.py\u001b[0m in \u001b[0;36m<module>\u001b[0;34m\u001b[0m\n\u001b[0;32m----> 1\u001b[0;31m experiment_analysis = rllib.rllib_baseline(\n\u001b[0m\u001b[1;32m      2\u001b[0m     \u001b[0;34m\"dqn\"\u001b[0m\u001b[0;34m,\u001b[0m\u001b[0;34m\u001b[0m\u001b[0;34m\u001b[0m\u001b[0m\n\u001b[1;32m      3\u001b[0m     \u001b[0mn_agents\u001b[0m\u001b[0;34m,\u001b[0m\u001b[0;34m\u001b[0m\u001b[0;34m\u001b[0m\u001b[0m\n\u001b[1;32m      4\u001b[0m     \u001b[0mgrid_width\u001b[0m\u001b[0;34m,\u001b[0m\u001b[0;34m\u001b[0m\u001b[0;34m\u001b[0m\u001b[0m\n\u001b[1;32m      5\u001b[0m     \u001b[0mgrid_height\u001b[0m\u001b[0;34m,\u001b[0m\u001b[0;34m\u001b[0m\u001b[0;34m\u001b[0m\u001b[0m\n",
      "\u001b[0;32m~/cpr-appropriation/notebooks/../src/rllib.py\u001b[0m in \u001b[0;36mrllib_baseline\u001b[0;34m(algorithm, n_agents, grid_width, grid_height, wandb_project, wandb_api_key, log_dir, max_episodes, max_steps, tagging_ability, gifting_mechanism, num_workers, jupyter, seed)\u001b[0m\n\u001b[1;32m    173\u001b[0m             },\n\u001b[1;32m    174\u001b[0m         }\n\u001b[0;32m--> 175\u001b[0;31m     return tune.run(\n\u001b[0m\u001b[1;32m    176\u001b[0m         \u001b[0mDQNTrainer\u001b[0m \u001b[0;32mif\u001b[0m \u001b[0malgorithm\u001b[0m \u001b[0;34m==\u001b[0m \u001b[0;34m\"dqn\"\u001b[0m \u001b[0;32melse\u001b[0m \u001b[0mPGTrainer\u001b[0m\u001b[0;34m,\u001b[0m\u001b[0;34m\u001b[0m\u001b[0;34m\u001b[0m\u001b[0m\n\u001b[1;32m    177\u001b[0m         \u001b[0mconfig\u001b[0m\u001b[0;34m=\u001b[0m\u001b[0mconfig\u001b[0m\u001b[0;34m,\u001b[0m\u001b[0;34m\u001b[0m\u001b[0;34m\u001b[0m\u001b[0m\n",
      "\u001b[0;32m~/anaconda3/envs/Harvest-DQN/lib/python3.9/site-packages/ray/tune/tune.py\u001b[0m in \u001b[0;36mrun\u001b[0;34m(run_or_experiment, name, metric, mode, stop, time_budget_s, config, resources_per_trial, num_samples, local_dir, search_alg, scheduler, keep_checkpoints_num, checkpoint_score_attr, checkpoint_freq, checkpoint_at_end, verbose, progress_reporter, log_to_file, trial_name_creator, trial_dirname_creator, sync_config, export_formats, max_failures, fail_fast, restore, server_port, resume, queue_trials, reuse_actors, trial_executor, raise_on_failed_trial, callbacks, loggers, ray_auto_init, run_errored_only, global_checkpoint_period, with_server, upload_dir, sync_to_cloud, sync_to_driver, sync_on_checkpoint, _remote)\u001b[0m\n\u001b[1;32m    542\u001b[0m     \u001b[0;32mif\u001b[0m \u001b[0mincomplete_trials\u001b[0m\u001b[0;34m:\u001b[0m\u001b[0;34m\u001b[0m\u001b[0;34m\u001b[0m\u001b[0m\n\u001b[1;32m    543\u001b[0m         \u001b[0;32mif\u001b[0m \u001b[0mraise_on_failed_trial\u001b[0m \u001b[0;32mand\u001b[0m \u001b[0;32mnot\u001b[0m \u001b[0mstate\u001b[0m\u001b[0;34m[\u001b[0m\u001b[0msignal\u001b[0m\u001b[0;34m.\u001b[0m\u001b[0mSIGINT\u001b[0m\u001b[0;34m]\u001b[0m\u001b[0;34m:\u001b[0m\u001b[0;34m\u001b[0m\u001b[0;34m\u001b[0m\u001b[0m\n\u001b[0;32m--> 544\u001b[0;31m             \u001b[0;32mraise\u001b[0m \u001b[0mTuneError\u001b[0m\u001b[0;34m(\u001b[0m\u001b[0;34m\"Trials did not complete\"\u001b[0m\u001b[0;34m,\u001b[0m \u001b[0mincomplete_trials\u001b[0m\u001b[0;34m)\u001b[0m\u001b[0;34m\u001b[0m\u001b[0;34m\u001b[0m\u001b[0m\n\u001b[0m\u001b[1;32m    545\u001b[0m         \u001b[0;32melse\u001b[0m\u001b[0;34m:\u001b[0m\u001b[0;34m\u001b[0m\u001b[0;34m\u001b[0m\u001b[0m\n\u001b[1;32m    546\u001b[0m             \u001b[0mlogger\u001b[0m\u001b[0;34m.\u001b[0m\u001b[0merror\u001b[0m\u001b[0;34m(\u001b[0m\u001b[0;34m\"Trials did not complete: %s\"\u001b[0m\u001b[0;34m,\u001b[0m \u001b[0mincomplete_trials\u001b[0m\u001b[0;34m)\u001b[0m\u001b[0;34m\u001b[0m\u001b[0;34m\u001b[0m\u001b[0m\n",
      "\u001b[0;31mTuneError\u001b[0m: ('Trials did not complete', [DQN_gym_cpr_grid:CPRGridEnv-v0_a2068_00000])"
     ]
    }
   ],
   "source": [
    "experiment_analysis = rllib.rllib_baseline(\n",
    "    \"dqn\",\n",
    "    n_agents,\n",
    "    grid_width,\n",
    "    grid_height,\n",
    "    wandb_project,\n",
    "    wandb_api_key,\n",
    "    rllib_log_dir,\n",
    "    max_episodes,\n",
    "    tagging_ability=tagging_ability,\n",
    "    gifting_mechanism=gifting_mechanism,\n",
    "    num_workers=num_workers,\n",
    "    jupyter=False,\n",
    "    seed=seed\n",
    ")"
   ]
  },
  {
   "cell_type": "markdown",
   "id": "7db0def0",
   "metadata": {},
   "source": [
    "## VPG baseline"
   ]
  },
  {
   "cell_type": "markdown",
   "id": "d1892b43",
   "metadata": {},
   "source": [
    "In this section we train a Vanilla Policy Gradient model through RLlib's implementations, to see how it stacks up to the DQN baseline."
   ]
  },
  {
   "cell_type": "code",
   "execution_count": null,
   "id": "d9a547dd",
   "metadata": {},
   "outputs": [],
   "source": [
    "experiment_analysis = rllib.rllib_baseline(\n",
    "    \"vpg\",\n",
    "    n_agents,\n",
    "    grid_width,\n",
    "    grid_height,\n",
    "    wandb_project,\n",
    "    wandb_api_key,\n",
    "    rllib_log_dir,\n",
    "    max_episodes,\n",
    "    tagging_ability=tagging_ability,\n",
    "    gifting_mechanism=gifting_mechanism,\n",
    "    num_workers=num_workers,\n",
    "    jupyter=False,\n",
    "    seed=seed\n",
    ")"
   ]
  }
 ],
 "metadata": {
  "kernelspec": {
   "display_name": "HarvestDQN",
   "language": "python",
   "name": "harvestdqn"
  },
  "language_info": {
   "codemirror_mode": {
    "name": "ipython",
    "version": 3
   },
   "file_extension": ".py",
   "mimetype": "text/x-python",
   "name": "python",
   "nbconvert_exporter": "python",
   "pygments_lexer": "ipython3",
   "version": "3.9.7"
  }
 },
 "nbformat": 4,
 "nbformat_minor": 5
}
