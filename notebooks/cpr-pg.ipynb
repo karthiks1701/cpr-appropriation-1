{
 "cells": [
  {
   "cell_type": "markdown",
   "id": "98e24b61",
   "metadata": {},
   "source": [
    "# CPR appropriation with policy gradient"
   ]
  },
  {
   "cell_type": "markdown",
   "id": "7e8123d6",
   "metadata": {},
   "source": [
    "This notebook contains actual Harvest trainings for each implemented policy gradient method. The environment in use is a custom implementation of Harvest."
   ]
  },
  {
   "cell_type": "markdown",
   "id": "359ae1fd",
   "metadata": {},
   "source": [
    "## Pre-requisites"
   ]
  },
  {
   "cell_type": "markdown",
   "id": "8fe3f3c6",
   "metadata": {},
   "source": [
    "The cells down below install and import the necessary libraries to successfully run the notebook examples."
   ]
  },
  {
   "cell_type": "code",
   "execution_count": 1,
   "id": "85dba4ce",
   "metadata": {},
   "outputs": [],
   "source": [
    "import sys\n",
    "sys.path.append('../')"
   ]
  },
  {
   "cell_type": "code",
   "execution_count": 3,
   "id": "6ee82033",
   "metadata": {},
   "outputs": [
    {
     "name": "stdout",
     "output_type": "stream",
     "text": [
      "Requirement already satisfied: black==21.6b0 in /home/somz/anaconda3/envs/Harvest-DQN/lib/python3.9/site-packages (from -r ../init/requirements.txt (line 1)) (21.6b0)\n",
      "Requirement already satisfied: jupyter==1.0.0 in /home/somz/anaconda3/envs/Harvest-DQN/lib/python3.9/site-packages (from -r ../init/requirements.txt (line 2)) (1.0.0)\n",
      "Requirement already satisfied: gym==0.18.3 in /home/somz/anaconda3/envs/Harvest-DQN/lib/python3.9/site-packages (from -r ../init/requirements.txt (line 3)) (0.18.3)\n",
      "Requirement already satisfied: matplotlib==3.4.3 in /home/somz/anaconda3/envs/Harvest-DQN/lib/python3.9/site-packages (from -r ../init/requirements.txt (line 4)) (3.4.3)\n",
      "Requirement already satisfied: torch==1.9.0 in /home/somz/anaconda3/envs/Harvest-DQN/lib/python3.9/site-packages (from -r ../init/requirements.txt (line 5)) (1.9.0)\n",
      "Requirement already satisfied: ray[default]==1.5.2 in /home/somz/anaconda3/envs/Harvest-DQN/lib/python3.9/site-packages (from -r ../init/requirements.txt (line 6)) (1.5.2)\n",
      "Requirement already satisfied: tensorboard==2.6.0 in /home/somz/anaconda3/envs/Harvest-DQN/lib/python3.9/site-packages (from -r ../init/requirements.txt (line 7)) (2.6.0)\n",
      "Requirement already satisfied: tensorboardX==2.4 in /home/somz/anaconda3/envs/Harvest-DQN/lib/python3.9/site-packages (from -r ../init/requirements.txt (line 8)) (2.4)\n",
      "Requirement already satisfied: wandb==0.12.0 in /home/somz/anaconda3/envs/Harvest-DQN/lib/python3.9/site-packages (from -r ../init/requirements.txt (line 9)) (0.12.0)\n",
      "Requirement already satisfied: loguru==0.5.3 in /home/somz/anaconda3/envs/Harvest-DQN/lib/python3.9/site-packages (from -r ../init/requirements.txt (line 10)) (0.5.3)\n",
      "Requirement already satisfied: lz4==3.1.3 in /home/somz/anaconda3/envs/Harvest-DQN/lib/python3.9/site-packages (from -r ../init/requirements.txt (line 11)) (3.1.3)\n",
      "Requirement already satisfied: mypy-extensions>=0.4.3 in /home/somz/anaconda3/envs/Harvest-DQN/lib/python3.9/site-packages (from black==21.6b0->-r ../init/requirements.txt (line 1)) (0.4.3)\n",
      "Requirement already satisfied: click>=7.1.2 in /home/somz/anaconda3/envs/Harvest-DQN/lib/python3.9/site-packages (from black==21.6b0->-r ../init/requirements.txt (line 1)) (8.0.3)\n",
      "Requirement already satisfied: regex>=2020.1.8 in /home/somz/anaconda3/envs/Harvest-DQN/lib/python3.9/site-packages (from black==21.6b0->-r ../init/requirements.txt (line 1)) (2021.10.8)\n",
      "Requirement already satisfied: pathspec<1,>=0.8.1 in /home/somz/anaconda3/envs/Harvest-DQN/lib/python3.9/site-packages (from black==21.6b0->-r ../init/requirements.txt (line 1)) (0.9.0)\n",
      "Requirement already satisfied: appdirs in /home/somz/anaconda3/envs/Harvest-DQN/lib/python3.9/site-packages (from black==21.6b0->-r ../init/requirements.txt (line 1)) (1.4.4)\n",
      "Requirement already satisfied: toml>=0.10.1 in /home/somz/anaconda3/envs/Harvest-DQN/lib/python3.9/site-packages (from black==21.6b0->-r ../init/requirements.txt (line 1)) (0.10.2)\n",
      "Requirement already satisfied: jupyter-console in /home/somz/anaconda3/envs/Harvest-DQN/lib/python3.9/site-packages (from jupyter==1.0.0->-r ../init/requirements.txt (line 2)) (6.4.0)\n",
      "Requirement already satisfied: notebook in /home/somz/anaconda3/envs/Harvest-DQN/lib/python3.9/site-packages (from jupyter==1.0.0->-r ../init/requirements.txt (line 2)) (6.4.4)\n",
      "Requirement already satisfied: nbconvert in /home/somz/anaconda3/envs/Harvest-DQN/lib/python3.9/site-packages (from jupyter==1.0.0->-r ../init/requirements.txt (line 2)) (6.2.0)\n",
      "Requirement already satisfied: qtconsole in /home/somz/anaconda3/envs/Harvest-DQN/lib/python3.9/site-packages (from jupyter==1.0.0->-r ../init/requirements.txt (line 2)) (5.1.1)\n",
      "Requirement already satisfied: ipywidgets in /home/somz/anaconda3/envs/Harvest-DQN/lib/python3.9/site-packages (from jupyter==1.0.0->-r ../init/requirements.txt (line 2)) (7.6.5)\n",
      "Requirement already satisfied: ipykernel in /home/somz/anaconda3/envs/Harvest-DQN/lib/python3.9/site-packages (from jupyter==1.0.0->-r ../init/requirements.txt (line 2)) (6.4.1)\n",
      "Requirement already satisfied: scipy in /home/somz/anaconda3/envs/Harvest-DQN/lib/python3.9/site-packages (from gym==0.18.3->-r ../init/requirements.txt (line 3)) (1.7.1)\n",
      "Requirement already satisfied: pyglet<=1.5.15,>=1.4.0 in /home/somz/anaconda3/envs/Harvest-DQN/lib/python3.9/site-packages (from gym==0.18.3->-r ../init/requirements.txt (line 3)) (1.5.15)\n",
      "Requirement already satisfied: Pillow<=8.2.0 in /home/somz/anaconda3/envs/Harvest-DQN/lib/python3.9/site-packages (from gym==0.18.3->-r ../init/requirements.txt (line 3)) (8.2.0)\n",
      "Requirement already satisfied: numpy>=1.10.4 in /home/somz/anaconda3/envs/Harvest-DQN/lib/python3.9/site-packages (from gym==0.18.3->-r ../init/requirements.txt (line 3)) (1.21.2)\n",
      "Requirement already satisfied: cloudpickle<1.7.0,>=1.2.0 in /home/somz/anaconda3/envs/Harvest-DQN/lib/python3.9/site-packages (from gym==0.18.3->-r ../init/requirements.txt (line 3)) (1.6.0)\n",
      "Requirement already satisfied: cycler>=0.10 in /home/somz/anaconda3/envs/Harvest-DQN/lib/python3.9/site-packages (from matplotlib==3.4.3->-r ../init/requirements.txt (line 4)) (0.10.0)\n",
      "Requirement already satisfied: kiwisolver>=1.0.1 in /home/somz/anaconda3/envs/Harvest-DQN/lib/python3.9/site-packages (from matplotlib==3.4.3->-r ../init/requirements.txt (line 4)) (1.3.2)\n",
      "Requirement already satisfied: pyparsing>=2.2.1 in /home/somz/anaconda3/envs/Harvest-DQN/lib/python3.9/site-packages (from matplotlib==3.4.3->-r ../init/requirements.txt (line 4)) (2.4.7)\n",
      "Requirement already satisfied: python-dateutil>=2.7 in /home/somz/anaconda3/envs/Harvest-DQN/lib/python3.9/site-packages (from matplotlib==3.4.3->-r ../init/requirements.txt (line 4)) (2.8.2)\n",
      "Requirement already satisfied: typing-extensions in /home/somz/anaconda3/envs/Harvest-DQN/lib/python3.9/site-packages (from torch==1.9.0->-r ../init/requirements.txt (line 5)) (3.10.0.2)\n",
      "Requirement already satisfied: gpustat in /home/somz/anaconda3/envs/Harvest-DQN/lib/python3.9/site-packages (from ray[default]==1.5.2->-r ../init/requirements.txt (line 6)) (0.6.0)\n",
      "Requirement already satisfied: py-spy>=0.2.0 in /home/somz/anaconda3/envs/Harvest-DQN/lib/python3.9/site-packages (from ray[default]==1.5.2->-r ../init/requirements.txt (line 6)) (0.3.10)\n",
      "Requirement already satisfied: opencensus in /home/somz/anaconda3/envs/Harvest-DQN/lib/python3.9/site-packages (from ray[default]==1.5.2->-r ../init/requirements.txt (line 6)) (0.8.0)\n",
      "Requirement already satisfied: requests in /home/somz/anaconda3/envs/Harvest-DQN/lib/python3.9/site-packages (from ray[default]==1.5.2->-r ../init/requirements.txt (line 6)) (2.26.0)\n",
      "Requirement already satisfied: protobuf>=3.15.3 in /home/somz/anaconda3/envs/Harvest-DQN/lib/python3.9/site-packages (from ray[default]==1.5.2->-r ../init/requirements.txt (line 6)) (3.18.1)\n",
      "Requirement already satisfied: redis>=3.5.0 in /home/somz/anaconda3/envs/Harvest-DQN/lib/python3.9/site-packages (from ray[default]==1.5.2->-r ../init/requirements.txt (line 6)) (3.5.3)\n",
      "Requirement already satisfied: pyyaml in /home/somz/anaconda3/envs/Harvest-DQN/lib/python3.9/site-packages (from ray[default]==1.5.2->-r ../init/requirements.txt (line 6)) (6.0)\n",
      "Requirement already satisfied: prometheus-client>=0.7.1 in /home/somz/anaconda3/envs/Harvest-DQN/lib/python3.9/site-packages (from ray[default]==1.5.2->-r ../init/requirements.txt (line 6)) (0.11.0)\n",
      "Requirement already satisfied: aiohttp in /home/somz/anaconda3/envs/Harvest-DQN/lib/python3.9/site-packages (from ray[default]==1.5.2->-r ../init/requirements.txt (line 6)) (3.7.4.post0)\n",
      "Requirement already satisfied: aiohttp-cors in /home/somz/anaconda3/envs/Harvest-DQN/lib/python3.9/site-packages (from ray[default]==1.5.2->-r ../init/requirements.txt (line 6)) (0.7.0)\n",
      "Requirement already satisfied: colorama in /home/somz/anaconda3/envs/Harvest-DQN/lib/python3.9/site-packages (from ray[default]==1.5.2->-r ../init/requirements.txt (line 6)) (0.4.4)\n",
      "Requirement already satisfied: jsonschema in /home/somz/anaconda3/envs/Harvest-DQN/lib/python3.9/site-packages (from ray[default]==1.5.2->-r ../init/requirements.txt (line 6)) (4.1.0)\n",
      "Requirement already satisfied: filelock in /home/somz/anaconda3/envs/Harvest-DQN/lib/python3.9/site-packages (from ray[default]==1.5.2->-r ../init/requirements.txt (line 6)) (3.3.1)\n",
      "Requirement already satisfied: grpcio>=1.28.1 in /home/somz/anaconda3/envs/Harvest-DQN/lib/python3.9/site-packages (from ray[default]==1.5.2->-r ../init/requirements.txt (line 6)) (1.41.0)\n",
      "Requirement already satisfied: pydantic>=1.8 in /home/somz/anaconda3/envs/Harvest-DQN/lib/python3.9/site-packages (from ray[default]==1.5.2->-r ../init/requirements.txt (line 6)) (1.8.2)\n",
      "Requirement already satisfied: aioredis<2 in /home/somz/anaconda3/envs/Harvest-DQN/lib/python3.9/site-packages (from ray[default]==1.5.2->-r ../init/requirements.txt (line 6)) (1.3.1)\n",
      "Requirement already satisfied: msgpack<2.0.0,>=1.0.0 in /home/somz/anaconda3/envs/Harvest-DQN/lib/python3.9/site-packages (from ray[default]==1.5.2->-r ../init/requirements.txt (line 6)) (1.0.2)\n",
      "Requirement already satisfied: colorful in /home/somz/anaconda3/envs/Harvest-DQN/lib/python3.9/site-packages (from ray[default]==1.5.2->-r ../init/requirements.txt (line 6)) (0.5.4)\n"
     ]
    },
    {
     "name": "stdout",
     "output_type": "stream",
     "text": [
      "Requirement already satisfied: werkzeug>=0.11.15 in /home/somz/anaconda3/envs/Harvest-DQN/lib/python3.9/site-packages (from tensorboard==2.6.0->-r ../init/requirements.txt (line 7)) (2.0.2)\n",
      "Requirement already satisfied: tensorboard-plugin-wit>=1.6.0 in /home/somz/anaconda3/envs/Harvest-DQN/lib/python3.9/site-packages (from tensorboard==2.6.0->-r ../init/requirements.txt (line 7)) (1.8.0)\n",
      "Requirement already satisfied: setuptools>=41.0.0 in /home/somz/anaconda3/envs/Harvest-DQN/lib/python3.9/site-packages (from tensorboard==2.6.0->-r ../init/requirements.txt (line 7)) (58.2.0)\n",
      "Requirement already satisfied: wheel>=0.26 in /home/somz/anaconda3/envs/Harvest-DQN/lib/python3.9/site-packages (from tensorboard==2.6.0->-r ../init/requirements.txt (line 7)) (0.37.0)\n",
      "Requirement already satisfied: markdown>=2.6.8 in /home/somz/anaconda3/envs/Harvest-DQN/lib/python3.9/site-packages (from tensorboard==2.6.0->-r ../init/requirements.txt (line 7)) (3.3.4)\n",
      "Requirement already satisfied: google-auth<2,>=1.6.3 in /home/somz/anaconda3/envs/Harvest-DQN/lib/python3.9/site-packages (from tensorboard==2.6.0->-r ../init/requirements.txt (line 7)) (1.35.0)\n",
      "Requirement already satisfied: google-auth-oauthlib<0.5,>=0.4.1 in /home/somz/anaconda3/envs/Harvest-DQN/lib/python3.9/site-packages (from tensorboard==2.6.0->-r ../init/requirements.txt (line 7)) (0.4.6)\n",
      "Requirement already satisfied: absl-py>=0.4 in /home/somz/anaconda3/envs/Harvest-DQN/lib/python3.9/site-packages (from tensorboard==2.6.0->-r ../init/requirements.txt (line 7)) (0.14.1)\n",
      "Requirement already satisfied: tensorboard-data-server<0.7.0,>=0.6.0 in /home/somz/anaconda3/envs/Harvest-DQN/lib/python3.9/site-packages (from tensorboard==2.6.0->-r ../init/requirements.txt (line 7)) (0.6.1)\n",
      "Requirement already satisfied: promise<3,>=2.0 in /home/somz/anaconda3/envs/Harvest-DQN/lib/python3.9/site-packages (from wandb==0.12.0->-r ../init/requirements.txt (line 9)) (2.3)\n",
      "Requirement already satisfied: sentry-sdk>=1.0.0 in /home/somz/anaconda3/envs/Harvest-DQN/lib/python3.9/site-packages (from wandb==0.12.0->-r ../init/requirements.txt (line 9)) (1.4.3)\n",
      "Requirement already satisfied: docker-pycreds>=0.4.0 in /home/somz/anaconda3/envs/Harvest-DQN/lib/python3.9/site-packages (from wandb==0.12.0->-r ../init/requirements.txt (line 9)) (0.4.0)\n",
      "Requirement already satisfied: configparser>=3.8.1 in /home/somz/anaconda3/envs/Harvest-DQN/lib/python3.9/site-packages (from wandb==0.12.0->-r ../init/requirements.txt (line 9)) (5.0.2)\n",
      "Requirement already satisfied: subprocess32>=3.5.3 in /home/somz/anaconda3/envs/Harvest-DQN/lib/python3.9/site-packages (from wandb==0.12.0->-r ../init/requirements.txt (line 9)) (3.5.4)\n",
      "Requirement already satisfied: GitPython>=1.0.0 in /home/somz/anaconda3/envs/Harvest-DQN/lib/python3.9/site-packages (from wandb==0.12.0->-r ../init/requirements.txt (line 9)) (3.1.24)\n",
      "Requirement already satisfied: six>=1.13.0 in /home/somz/anaconda3/envs/Harvest-DQN/lib/python3.9/site-packages (from wandb==0.12.0->-r ../init/requirements.txt (line 9)) (1.16.0)\n",
      "Requirement already satisfied: pathtools in /home/somz/anaconda3/envs/Harvest-DQN/lib/python3.9/site-packages (from wandb==0.12.0->-r ../init/requirements.txt (line 9)) (0.1.2)\n",
      "Requirement already satisfied: psutil>=5.0.0 in /home/somz/anaconda3/envs/Harvest-DQN/lib/python3.9/site-packages (from wandb==0.12.0->-r ../init/requirements.txt (line 9)) (5.8.0)\n",
      "Requirement already satisfied: shortuuid>=0.5.0 in /home/somz/anaconda3/envs/Harvest-DQN/lib/python3.9/site-packages (from wandb==0.12.0->-r ../init/requirements.txt (line 9)) (1.0.1)\n",
      "Requirement already satisfied: hiredis in /home/somz/anaconda3/envs/Harvest-DQN/lib/python3.9/site-packages (from aioredis<2->ray[default]==1.5.2->-r ../init/requirements.txt (line 6)) (2.0.0)\n",
      "Requirement already satisfied: async-timeout in /home/somz/anaconda3/envs/Harvest-DQN/lib/python3.9/site-packages (from aioredis<2->ray[default]==1.5.2->-r ../init/requirements.txt (line 6)) (3.0.1)\n",
      "Requirement already satisfied: gitdb<5,>=4.0.1 in /home/somz/anaconda3/envs/Harvest-DQN/lib/python3.9/site-packages (from GitPython>=1.0.0->wandb==0.12.0->-r ../init/requirements.txt (line 9)) (4.0.7)\n",
      "Requirement already satisfied: cachetools<5.0,>=2.0.0 in /home/somz/anaconda3/envs/Harvest-DQN/lib/python3.9/site-packages (from google-auth<2,>=1.6.3->tensorboard==2.6.0->-r ../init/requirements.txt (line 7)) (4.2.4)\n",
      "Requirement already satisfied: pyasn1-modules>=0.2.1 in /home/somz/anaconda3/envs/Harvest-DQN/lib/python3.9/site-packages (from google-auth<2,>=1.6.3->tensorboard==2.6.0->-r ../init/requirements.txt (line 7)) (0.2.8)\n",
      "Requirement already satisfied: rsa<5,>=3.1.4 in /home/somz/anaconda3/envs/Harvest-DQN/lib/python3.9/site-packages (from google-auth<2,>=1.6.3->tensorboard==2.6.0->-r ../init/requirements.txt (line 7)) (4.7.2)\n",
      "Requirement already satisfied: requests-oauthlib>=0.7.0 in /home/somz/anaconda3/envs/Harvest-DQN/lib/python3.9/site-packages (from google-auth-oauthlib<0.5,>=0.4.1->tensorboard==2.6.0->-r ../init/requirements.txt (line 7)) (1.3.0)\n",
      "Requirement already satisfied: certifi>=2017.4.17 in /home/somz/anaconda3/envs/Harvest-DQN/lib/python3.9/site-packages (from requests->ray[default]==1.5.2->-r ../init/requirements.txt (line 6)) (2021.10.8)\n",
      "Requirement already satisfied: charset-normalizer~=2.0.0 in /home/somz/anaconda3/envs/Harvest-DQN/lib/python3.9/site-packages (from requests->ray[default]==1.5.2->-r ../init/requirements.txt (line 6)) (2.0.0)\n",
      "Requirement already satisfied: idna<4,>=2.5 in /home/somz/anaconda3/envs/Harvest-DQN/lib/python3.9/site-packages (from requests->ray[default]==1.5.2->-r ../init/requirements.txt (line 6)) (3.1)\n",
      "Requirement already satisfied: urllib3<1.27,>=1.21.1 in /home/somz/anaconda3/envs/Harvest-DQN/lib/python3.9/site-packages (from requests->ray[default]==1.5.2->-r ../init/requirements.txt (line 6)) (1.26.7)\n",
      "Requirement already satisfied: multidict<7.0,>=4.5 in /home/somz/anaconda3/envs/Harvest-DQN/lib/python3.9/site-packages (from aiohttp->ray[default]==1.5.2->-r ../init/requirements.txt (line 6)) (5.2.0)\n",
      "Requirement already satisfied: attrs>=17.3.0 in /home/somz/anaconda3/envs/Harvest-DQN/lib/python3.9/site-packages (from aiohttp->ray[default]==1.5.2->-r ../init/requirements.txt (line 6)) (21.2.0)\n",
      "Requirement already satisfied: chardet<5.0,>=2.0 in /home/somz/anaconda3/envs/Harvest-DQN/lib/python3.9/site-packages (from aiohttp->ray[default]==1.5.2->-r ../init/requirements.txt (line 6)) (4.0.0)\n",
      "Requirement already satisfied: yarl<2.0,>=1.0 in /home/somz/anaconda3/envs/Harvest-DQN/lib/python3.9/site-packages (from aiohttp->ray[default]==1.5.2->-r ../init/requirements.txt (line 6)) (1.7.0)\n",
      "Requirement already satisfied: nvidia-ml-py3>=7.352.0 in /home/somz/anaconda3/envs/Harvest-DQN/lib/python3.9/site-packages (from gpustat->ray[default]==1.5.2->-r ../init/requirements.txt (line 6)) (7.352.0)\n",
      "Requirement already satisfied: blessings>=1.6 in /home/somz/anaconda3/envs/Harvest-DQN/lib/python3.9/site-packages (from gpustat->ray[default]==1.5.2->-r ../init/requirements.txt (line 6)) (1.7)\n",
      "Requirement already satisfied: ipython-genutils in /home/somz/anaconda3/envs/Harvest-DQN/lib/python3.9/site-packages (from ipykernel->jupyter==1.0.0->-r ../init/requirements.txt (line 2)) (0.2.0)\n",
      "Requirement already satisfied: traitlets<6.0,>=4.1.0 in /home/somz/anaconda3/envs/Harvest-DQN/lib/python3.9/site-packages (from ipykernel->jupyter==1.0.0->-r ../init/requirements.txt (line 2)) (5.1.0)\n",
      "Requirement already satisfied: matplotlib-inline<0.2.0,>=0.1.0 in /home/somz/anaconda3/envs/Harvest-DQN/lib/python3.9/site-packages (from ipykernel->jupyter==1.0.0->-r ../init/requirements.txt (line 2)) (0.1.3)\n",
      "Requirement already satisfied: jupyter-client<8.0 in /home/somz/anaconda3/envs/Harvest-DQN/lib/python3.9/site-packages (from ipykernel->jupyter==1.0.0->-r ../init/requirements.txt (line 2)) (7.0.6)\n",
      "Requirement already satisfied: tornado<7.0,>=4.2 in /home/somz/anaconda3/envs/Harvest-DQN/lib/python3.9/site-packages (from ipykernel->jupyter==1.0.0->-r ../init/requirements.txt (line 2)) (6.1)\n",
      "Requirement already satisfied: ipython<8.0,>=7.23.1 in /home/somz/anaconda3/envs/Harvest-DQN/lib/python3.9/site-packages (from ipykernel->jupyter==1.0.0->-r ../init/requirements.txt (line 2)) (7.28.0)\n",
      "Requirement already satisfied: debugpy<2.0,>=1.0.0 in /home/somz/anaconda3/envs/Harvest-DQN/lib/python3.9/site-packages (from ipykernel->jupyter==1.0.0->-r ../init/requirements.txt (line 2)) (1.4.1)\n",
      "Requirement already satisfied: nbformat>=4.2.0 in /home/somz/anaconda3/envs/Harvest-DQN/lib/python3.9/site-packages (from ipywidgets->jupyter==1.0.0->-r ../init/requirements.txt (line 2)) (5.1.3)\n",
      "Requirement already satisfied: widgetsnbextension~=3.5.0 in /home/somz/anaconda3/envs/Harvest-DQN/lib/python3.9/site-packages (from ipywidgets->jupyter==1.0.0->-r ../init/requirements.txt (line 2)) (3.5.1)\n",
      "Requirement already satisfied: jupyterlab-widgets>=1.0.0 in /home/somz/anaconda3/envs/Harvest-DQN/lib/python3.9/site-packages (from ipywidgets->jupyter==1.0.0->-r ../init/requirements.txt (line 2)) (1.0.2)\n"
     ]
    },
    {
     "name": "stdout",
     "output_type": "stream",
     "text": [
      "Requirement already satisfied: pyrsistent!=0.17.0,!=0.17.1,!=0.17.2,>=0.14.0 in /home/somz/anaconda3/envs/Harvest-DQN/lib/python3.9/site-packages (from jsonschema->ray[default]==1.5.2->-r ../init/requirements.txt (line 6)) (0.17.3)\n",
      "Requirement already satisfied: prompt-toolkit!=3.0.0,!=3.0.1,<3.1.0,>=2.0.0 in /home/somz/anaconda3/envs/Harvest-DQN/lib/python3.9/site-packages (from jupyter-console->jupyter==1.0.0->-r ../init/requirements.txt (line 2)) (3.0.20)\n",
      "Requirement already satisfied: pygments in /home/somz/anaconda3/envs/Harvest-DQN/lib/python3.9/site-packages (from jupyter-console->jupyter==1.0.0->-r ../init/requirements.txt (line 2)) (2.10.0)\n",
      "Requirement already satisfied: entrypoints>=0.2.2 in /home/somz/anaconda3/envs/Harvest-DQN/lib/python3.9/site-packages (from nbconvert->jupyter==1.0.0->-r ../init/requirements.txt (line 2)) (0.3)\n",
      "Requirement already satisfied: mistune<2,>=0.8.1 in /home/somz/anaconda3/envs/Harvest-DQN/lib/python3.9/site-packages (from nbconvert->jupyter==1.0.0->-r ../init/requirements.txt (line 2)) (0.8.4)\n",
      "Requirement already satisfied: defusedxml in /home/somz/anaconda3/envs/Harvest-DQN/lib/python3.9/site-packages (from nbconvert->jupyter==1.0.0->-r ../init/requirements.txt (line 2)) (0.7.1)\n",
      "Requirement already satisfied: testpath in /home/somz/anaconda3/envs/Harvest-DQN/lib/python3.9/site-packages (from nbconvert->jupyter==1.0.0->-r ../init/requirements.txt (line 2)) (0.5.0)\n",
      "Requirement already satisfied: nbclient<0.6.0,>=0.5.0 in /home/somz/anaconda3/envs/Harvest-DQN/lib/python3.9/site-packages (from nbconvert->jupyter==1.0.0->-r ../init/requirements.txt (line 2)) (0.5.4)\n",
      "Requirement already satisfied: jinja2>=2.4 in /home/somz/anaconda3/envs/Harvest-DQN/lib/python3.9/site-packages (from nbconvert->jupyter==1.0.0->-r ../init/requirements.txt (line 2)) (3.0.2)\n",
      "Requirement already satisfied: pandocfilters>=1.4.1 in /home/somz/anaconda3/envs/Harvest-DQN/lib/python3.9/site-packages (from nbconvert->jupyter==1.0.0->-r ../init/requirements.txt (line 2)) (1.5.0)\n",
      "Requirement already satisfied: jupyter-core in /home/somz/anaconda3/envs/Harvest-DQN/lib/python3.9/site-packages (from nbconvert->jupyter==1.0.0->-r ../init/requirements.txt (line 2)) (4.8.1)\n",
      "Requirement already satisfied: bleach in /home/somz/anaconda3/envs/Harvest-DQN/lib/python3.9/site-packages (from nbconvert->jupyter==1.0.0->-r ../init/requirements.txt (line 2)) (4.1.0)\n",
      "Requirement already satisfied: jupyterlab-pygments in /home/somz/anaconda3/envs/Harvest-DQN/lib/python3.9/site-packages (from nbconvert->jupyter==1.0.0->-r ../init/requirements.txt (line 2)) (0.1.2)\n",
      "Requirement already satisfied: pyzmq>=17 in /home/somz/anaconda3/envs/Harvest-DQN/lib/python3.9/site-packages (from notebook->jupyter==1.0.0->-r ../init/requirements.txt (line 2)) (22.3.0)\n",
      "Requirement already satisfied: argon2-cffi in /home/somz/anaconda3/envs/Harvest-DQN/lib/python3.9/site-packages (from notebook->jupyter==1.0.0->-r ../init/requirements.txt (line 2)) (21.1.0)\n",
      "Requirement already satisfied: Send2Trash>=1.5.0 in /home/somz/anaconda3/envs/Harvest-DQN/lib/python3.9/site-packages (from notebook->jupyter==1.0.0->-r ../init/requirements.txt (line 2)) (1.8.0)\n",
      "Requirement already satisfied: terminado>=0.8.3 in /home/somz/anaconda3/envs/Harvest-DQN/lib/python3.9/site-packages (from notebook->jupyter==1.0.0->-r ../init/requirements.txt (line 2)) (0.12.1)\n",
      "Requirement already satisfied: opencensus-context==0.1.2 in /home/somz/anaconda3/envs/Harvest-DQN/lib/python3.9/site-packages (from opencensus->ray[default]==1.5.2->-r ../init/requirements.txt (line 6)) (0.1.2)\n",
      "Requirement already satisfied: google-api-core<3.0.0,>=1.0.0 in /home/somz/anaconda3/envs/Harvest-DQN/lib/python3.9/site-packages (from opencensus->ray[default]==1.5.2->-r ../init/requirements.txt (line 6)) (2.1.1)\n",
      "Requirement already satisfied: qtpy in /home/somz/anaconda3/envs/Harvest-DQN/lib/python3.9/site-packages (from qtconsole->jupyter==1.0.0->-r ../init/requirements.txt (line 2)) (1.11.2)\n",
      "Requirement already satisfied: smmap<5,>=3.0.1 in /home/somz/anaconda3/envs/Harvest-DQN/lib/python3.9/site-packages (from gitdb<5,>=4.0.1->GitPython>=1.0.0->wandb==0.12.0->-r ../init/requirements.txt (line 9)) (4.0.0)\n",
      "Requirement already satisfied: googleapis-common-protos<2.0dev,>=1.6.0 in /home/somz/anaconda3/envs/Harvest-DQN/lib/python3.9/site-packages (from google-api-core<3.0.0,>=1.0.0->opencensus->ray[default]==1.5.2->-r ../init/requirements.txt (line 6)) (1.53.0)\n",
      "Requirement already satisfied: backcall in /home/somz/anaconda3/envs/Harvest-DQN/lib/python3.9/site-packages (from ipython<8.0,>=7.23.1->ipykernel->jupyter==1.0.0->-r ../init/requirements.txt (line 2)) (0.2.0)\n",
      "Requirement already satisfied: pickleshare in /home/somz/anaconda3/envs/Harvest-DQN/lib/python3.9/site-packages (from ipython<8.0,>=7.23.1->ipykernel->jupyter==1.0.0->-r ../init/requirements.txt (line 2)) (0.7.5)\n",
      "Requirement already satisfied: jedi>=0.16 in /home/somz/anaconda3/envs/Harvest-DQN/lib/python3.9/site-packages (from ipython<8.0,>=7.23.1->ipykernel->jupyter==1.0.0->-r ../init/requirements.txt (line 2)) (0.18.0)\n",
      "Requirement already satisfied: pexpect>4.3 in /home/somz/anaconda3/envs/Harvest-DQN/lib/python3.9/site-packages (from ipython<8.0,>=7.23.1->ipykernel->jupyter==1.0.0->-r ../init/requirements.txt (line 2)) (4.8.0)\n",
      "Requirement already satisfied: decorator in /home/somz/anaconda3/envs/Harvest-DQN/lib/python3.9/site-packages (from ipython<8.0,>=7.23.1->ipykernel->jupyter==1.0.0->-r ../init/requirements.txt (line 2)) (5.1.0)\n",
      "Requirement already satisfied: MarkupSafe>=2.0 in /home/somz/anaconda3/envs/Harvest-DQN/lib/python3.9/site-packages (from jinja2>=2.4->nbconvert->jupyter==1.0.0->-r ../init/requirements.txt (line 2)) (2.0.1)\n",
      "Requirement already satisfied: nest-asyncio>=1.5 in /home/somz/anaconda3/envs/Harvest-DQN/lib/python3.9/site-packages (from jupyter-client<8.0->ipykernel->jupyter==1.0.0->-r ../init/requirements.txt (line 2)) (1.5.1)\n",
      "Requirement already satisfied: wcwidth in /home/somz/anaconda3/envs/Harvest-DQN/lib/python3.9/site-packages (from prompt-toolkit!=3.0.0,!=3.0.1,<3.1.0,>=2.0.0->jupyter-console->jupyter==1.0.0->-r ../init/requirements.txt (line 2)) (0.2.5)\n",
      "Requirement already satisfied: pyasn1<0.5.0,>=0.4.6 in /home/somz/anaconda3/envs/Harvest-DQN/lib/python3.9/site-packages (from pyasn1-modules>=0.2.1->google-auth<2,>=1.6.3->tensorboard==2.6.0->-r ../init/requirements.txt (line 7)) (0.4.8)\n",
      "Requirement already satisfied: oauthlib>=3.0.0 in /home/somz/anaconda3/envs/Harvest-DQN/lib/python3.9/site-packages (from requests-oauthlib>=0.7.0->google-auth-oauthlib<0.5,>=0.4.1->tensorboard==2.6.0->-r ../init/requirements.txt (line 7)) (3.1.1)\n",
      "Requirement already satisfied: ptyprocess in /home/somz/anaconda3/envs/Harvest-DQN/lib/python3.9/site-packages (from terminado>=0.8.3->notebook->jupyter==1.0.0->-r ../init/requirements.txt (line 2)) (0.7.0)\n",
      "Requirement already satisfied: cffi>=1.0.0 in /home/somz/anaconda3/envs/Harvest-DQN/lib/python3.9/site-packages (from argon2-cffi->notebook->jupyter==1.0.0->-r ../init/requirements.txt (line 2)) (1.14.6)\n",
      "Requirement already satisfied: webencodings in /home/somz/anaconda3/envs/Harvest-DQN/lib/python3.9/site-packages (from bleach->nbconvert->jupyter==1.0.0->-r ../init/requirements.txt (line 2)) (0.5.1)\n",
      "Requirement already satisfied: packaging in /home/somz/anaconda3/envs/Harvest-DQN/lib/python3.9/site-packages (from bleach->nbconvert->jupyter==1.0.0->-r ../init/requirements.txt (line 2)) (21.0)\n",
      "Requirement already satisfied: pycparser in /home/somz/anaconda3/envs/Harvest-DQN/lib/python3.9/site-packages (from cffi>=1.0.0->argon2-cffi->notebook->jupyter==1.0.0->-r ../init/requirements.txt (line 2)) (2.20)\n",
      "Requirement already satisfied: parso<0.9.0,>=0.8.0 in /home/somz/anaconda3/envs/Harvest-DQN/lib/python3.9/site-packages (from jedi>=0.16->ipython<8.0,>=7.23.1->ipykernel->jupyter==1.0.0->-r ../init/requirements.txt (line 2)) (0.8.2)\n",
      "Obtaining file:///home/somz/cpr-appropriation/src/gym_cpr_grid\n",
      "  Preparing metadata (setup.py) ... \u001b[?25ldone\n",
      "\u001b[?25hRequirement already satisfied: gym in /home/somz/anaconda3/envs/Harvest-DQN/lib/python3.9/site-packages (from gym-cpr-grid==0.0.1) (0.18.3)\n",
      "Requirement already satisfied: Pillow<=8.2.0 in /home/somz/anaconda3/envs/Harvest-DQN/lib/python3.9/site-packages (from gym->gym-cpr-grid==0.0.1) (8.2.0)\n",
      "Requirement already satisfied: pyglet<=1.5.15,>=1.4.0 in /home/somz/anaconda3/envs/Harvest-DQN/lib/python3.9/site-packages (from gym->gym-cpr-grid==0.0.1) (1.5.15)\n",
      "Requirement already satisfied: scipy in /home/somz/anaconda3/envs/Harvest-DQN/lib/python3.9/site-packages (from gym->gym-cpr-grid==0.0.1) (1.7.1)\n",
      "Requirement already satisfied: numpy>=1.10.4 in /home/somz/anaconda3/envs/Harvest-DQN/lib/python3.9/site-packages (from gym->gym-cpr-grid==0.0.1) (1.21.2)\n",
      "Requirement already satisfied: cloudpickle<1.7.0,>=1.2.0 in /home/somz/anaconda3/envs/Harvest-DQN/lib/python3.9/site-packages (from gym->gym-cpr-grid==0.0.1) (1.6.0)\n"
     ]
    },
    {
     "name": "stdout",
     "output_type": "stream",
     "text": [
      "Installing collected packages: gym-cpr-grid\n",
      "  Attempting uninstall: gym-cpr-grid\n",
      "    Found existing installation: gym-cpr-grid 0.0.1\n",
      "    Uninstalling gym-cpr-grid-0.0.1:\n",
      "      Successfully uninstalled gym-cpr-grid-0.0.1\n",
      "  Running setup.py develop for gym-cpr-grid\n",
      "Successfully installed gym-cpr-grid-0.0.1\n"
     ]
    }
   ],
   "source": [
    "\n",
    "!pip install -r ../init/requirements.txt\n",
    "!pip install -e ../src/gym_cpr_grid"
   ]
  },
  {
   "cell_type": "code",
   "execution_count": 12,
   "id": "96a5b2de",
   "metadata": {},
   "outputs": [],
   "source": [
    "import time\n",
    "\n",
    "import numpy as np\n",
    "import gym\n",
    "import torch\n",
    "import matplotlib.pyplot as plt\n",
    "from IPython import display\n",
    "\n",
    "from src import memory, models, policies\n",
    "\n"
   ]
  },
  {
   "cell_type": "markdown",
   "id": "58ddcded",
   "metadata": {},
   "source": [
    "## Utilities"
   ]
  },
  {
   "cell_type": "markdown",
   "id": "8aef0e00",
   "metadata": {},
   "source": [
    "The cell down below defines the environment, along with common variables to be used throughout the notebook."
   ]
  },
  {
   "cell_type": "code",
   "execution_count": 13,
   "id": "bb8048cd",
   "metadata": {},
   "outputs": [],
   "source": [
    "env = gym.make(\n",
    "    'gym_cpr_grid:CPRGridEnv-v0', \n",
    "    n_agents=1, \n",
    "    grid_width=25, \n",
    "    grid_height=7,\n",
    "    tagging_ability=False,\n",
    "    gifting_mechanism=None,\n",
    "    initial_resource_probability=0.2,\n",
    "    fov_squares_front=21,\n",
    "    global_obs=False\n",
    ")"
   ]
  },
  {
   "cell_type": "code",
   "execution_count": 14,
   "id": "365ab924",
   "metadata": {},
   "outputs": [],
   "source": [
    "observation_space_size = env.observation_space_size()\n",
    "action_space_size = env.action_space_size()\n",
    "epochs = 1000\n",
    "steps_per_epoch = 1000\n",
    "minibatch_size = 100\n",
    "save_every = 200\n",
    "hidden_sizes = [32, 32]\n",
    "#checkpoints_path = \"../checkpoints\"\n",
    "render_every = None\n",
    "std_returns = True\n",
    "std_advs = False\n",
    "clip_gradient_norm = None\n",
    "policy_lr = 3e-4\n",
    "baseline_lr = 1e-3\n",
    "wandb_config = {\n",
    "    \"api_key\": \"18638505c190d67f1040f6945fe54ab128a99dde\",\n",
    "    \"project\": \"cpr-appropriation\",\n",
    "    \"entity\": \"somz\",\n",
    "}"
   ]
  },
  {
   "cell_type": "markdown",
   "id": "94ec04f2",
   "metadata": {},
   "source": [
    "## VPG"
   ]
  },
  {
   "cell_type": "markdown",
   "id": "541b9cca",
   "metadata": {},
   "source": [
    "This section deals with training a set of Harvest agents using our custom Vanilla Policy Gradient implementation."
   ]
  },
  {
   "cell_type": "code",
   "execution_count": 16,
   "id": "a82d3a71",
   "metadata": {
    "scrolled": true
   },
   "outputs": [
    {
     "name": "stderr",
     "output_type": "stream",
     "text": [
      "2021-10-19 14:51:04.944 | DEBUG    | src.models:__init__:58 - Model summary: MLP(\n",
      "  (mlp): Sequential(\n",
      "    (0): Linear(in_features=1323, out_features=32, bias=True)\n",
      "    (1): LeakyReLU(negative_slope=0.01)\n",
      "    (2): Linear(in_features=32, out_features=32, bias=True)\n",
      "    (3): LeakyReLU(negative_slope=0.01)\n",
      "    (4): Linear(in_features=32, out_features=9, bias=True)\n",
      "    (5): LeakyReLU(negative_slope=0.01)\n",
      "  )\n",
      ")\n",
      "2021-10-19 14:51:04.950 | DEBUG    | src.models:__init__:58 - Model summary: MLP(\n",
      "  (mlp): Sequential(\n",
      "    (0): Linear(in_features=1323, out_features=32, bias=True)\n",
      "    (1): LeakyReLU(negative_slope=0.01)\n",
      "    (2): Linear(in_features=32, out_features=32, bias=True)\n",
      "    (3): LeakyReLU(negative_slope=0.01)\n",
      "    (4): Linear(in_features=32, out_features=1, bias=True)\n",
      "    (5): LeakyReLU(negative_slope=0.01)\n",
      "  )\n",
      ")\n"
     ]
    },
    {
     "data": {
      "text/html": [
       "Finishing last run (ID:1q31kt53) before initializing another..."
      ],
      "text/plain": [
       "<IPython.core.display.HTML object>"
      ]
     },
     "metadata": {},
     "output_type": "display_data"
    },
    {
     "data": {
      "text/html": [
       "<br/>Waiting for W&B process to finish, PID 22582<br/>Program ended successfully."
      ],
      "text/plain": [
       "<IPython.core.display.HTML object>"
      ]
     },
     "metadata": {},
     "output_type": "display_data"
    },
    {
     "data": {
      "application/vnd.jupyter.widget-view+json": {
       "model_id": "",
       "version_major": 2,
       "version_minor": 0
      },
      "text/plain": [
       "VBox(children=(Label(value=' 0.00MB of 0.00MB uploaded (0.00MB deduped)\\r'), FloatProgress(value=1.0, max=1.0)…"
      ]
     },
     "metadata": {},
     "output_type": "display_data"
    },
    {
     "data": {
      "text/html": [
       "Find user logs for this run at: <code>/home/somz/cpr-appropriation/notebooks/wandb/run-20211019_145038-1q31kt53/logs/debug.log</code>"
      ],
      "text/plain": [
       "<IPython.core.display.HTML object>"
      ]
     },
     "metadata": {},
     "output_type": "display_data"
    },
    {
     "data": {
      "text/html": [
       "Find internal logs for this run at: <code>/home/somz/cpr-appropriation/notebooks/wandb/run-20211019_145038-1q31kt53/logs/debug-internal.log</code>"
      ],
      "text/plain": [
       "<IPython.core.display.HTML object>"
      ]
     },
     "metadata": {},
     "output_type": "display_data"
    },
    {
     "data": {
      "text/html": [
       "<h3>Run summary:</h3><br/><style>\n",
       "    table.wandb td:nth-child(1) { padding: 0 10px; text-align: right }\n",
       "    </style><table class=\"wandb\">\n",
       "<tr><td>efficiency</td><td>20.0</td></tr><tr><td>equality</td><td>1.0</td></tr><tr><td>sustainability</td><td>267.3</td></tr><tr><td>peace</td><td>nan</td></tr><tr><td>loss</td><td>-36.87967</td></tr><tr><td>mean_return</td><td>20.0</td></tr><tr><td>_runtime</td><td>21</td></tr><tr><td>_timestamp</td><td>1634669464</td></tr><tr><td>_step</td><td>0</td></tr></table>"
      ],
      "text/plain": [
       "<IPython.core.display.HTML object>"
      ]
     },
     "metadata": {},
     "output_type": "display_data"
    },
    {
     "data": {
      "text/html": [
       "<h3>Run history:</h3><br/><style>\n",
       "    table.wandb td:nth-child(1) { padding: 0 10px; text-align: right }\n",
       "    </style><table class=\"wandb\">\n",
       "<tr><td>efficiency</td><td>▁</td></tr><tr><td>equality</td><td>▁</td></tr><tr><td>sustainability</td><td>▁</td></tr><tr><td>peace</td><td></td></tr><tr><td>loss</td><td>▁</td></tr><tr><td>mean_return</td><td>▁</td></tr><tr><td>_runtime</td><td>▁</td></tr><tr><td>_timestamp</td><td>▁</td></tr><tr><td>_step</td><td>▁</td></tr></table><br/>"
      ],
      "text/plain": [
       "<IPython.core.display.HTML object>"
      ]
     },
     "metadata": {},
     "output_type": "display_data"
    },
    {
     "data": {
      "text/html": [
       "Synced 6 W&B file(s), 0 media file(s), 0 artifact file(s) and 0 other file(s)"
      ],
      "text/plain": [
       "<IPython.core.display.HTML object>"
      ]
     },
     "metadata": {},
     "output_type": "display_data"
    },
    {
     "data": {
      "text/html": [
       "\n",
       "                    <br/>Synced <strong style=\"color:#cdcd00\">generous-grass-23</strong>: <a href=\"https://wandb.ai/somz/cpr-appropriation/runs/1q31kt53\" target=\"_blank\">https://wandb.ai/somz/cpr-appropriation/runs/1q31kt53</a><br/>\n",
       "                "
      ],
      "text/plain": [
       "<IPython.core.display.HTML object>"
      ]
     },
     "metadata": {},
     "output_type": "display_data"
    },
    {
     "data": {
      "text/html": [
       "...Successfully finished last run (ID:1q31kt53). Initializing new run:<br/><br/>"
      ],
      "text/plain": [
       "<IPython.core.display.HTML object>"
      ]
     },
     "metadata": {},
     "output_type": "display_data"
    },
    {
     "name": "stderr",
     "output_type": "stream",
     "text": [
      "\u001b[34m\u001b[1mwandb\u001b[0m: wandb version 0.12.4 is available!  To upgrade, please run:\n",
      "\u001b[34m\u001b[1mwandb\u001b[0m:  $ pip install wandb --upgrade\n"
     ]
    },
    {
     "data": {
      "text/html": [
       "\n",
       "                Tracking run with wandb version 0.12.0<br/>\n",
       "                Syncing run <strong style=\"color:#cdcd00\">peach-microwave-24</strong> to <a href=\"https://wandb.ai\" target=\"_blank\">Weights & Biases</a> <a href=\"https://docs.wandb.com/integrations/jupyter.html\" target=\"_blank\">(Documentation)</a>.<br/>\n",
       "                Project page: <a href=\"https://wandb.ai/somz/cpr-appropriation\" target=\"_blank\">https://wandb.ai/somz/cpr-appropriation</a><br/>\n",
       "                Run page: <a href=\"https://wandb.ai/somz/cpr-appropriation/runs/32mjg777\" target=\"_blank\">https://wandb.ai/somz/cpr-appropriation/runs/32mjg777</a><br/>\n",
       "                Run data is saved locally in <code>/home/somz/cpr-appropriation/notebooks/wandb/run-20211019_145104-32mjg777</code><br/><br/>\n",
       "            "
      ],
      "text/plain": [
       "<IPython.core.display.HTML object>"
      ]
     },
     "metadata": {},
     "output_type": "display_data"
    },
    {
     "name": "stderr",
     "output_type": "stream",
     "text": [
      "2021-10-19 14:51:12.164 | INFO     | src.policies:train:126 - Epoch 1 / 1000\n",
      "2021-10-19 14:51:12.165 | INFO     | src.policies:collect_trajectories:230 - Episode 1\n",
      "2021-10-19 14:51:13.754 | DEBUG    | src.policies:execute_episode:436 - Early stopping, all agents done\n",
      "2021-10-19 14:51:13.756 | INFO     | src.policies:collect_trajectories:241 - Episode infos: {'efficiency': 20.0, 'equality': 1.0, 'sustainability': 267.3, 'peace': nan}\n",
      "2021-10-19 14:51:13.757 | INFO     | src.policies:collect_trajectories:246 - Mean episode return: 20.0\n",
      "2021-10-19 14:51:13.758 | INFO     | src.policies:collect_trajectories:247 - Last 100 episodes mean return: 20.0\n",
      "2021-10-19 14:51:14.531 | INFO     | src.policies:train:167 - Mini-batch 1 / 10\n",
      "2021-10-19 14:51:14.534 | INFO     | src.policies:minibatch_update:291 - Losses: {'policy_loss': -0.022714532911777496, 'baseline_loss': 0.9563030004501343, 'total_loss': 0.45543697476387024}\n",
      "2021-10-19 14:51:14.536 | INFO     | src.policies:minibatch_update:297 - Policy network L2 gradient norm: 1.355972170829773\n",
      "2021-10-19 14:51:14.538 | INFO     | src.policies:minibatch_update:301 - Baseline network L2 gradient norm: 6.321948528289795\n",
      "2021-10-19 14:51:14.547 | INFO     | src.policies:train:167 - Mini-batch 2 / 10\n",
      "2021-10-19 14:51:14.550 | INFO     | src.policies:minibatch_update:291 - Losses: {'policy_loss': -3.087754726409912, 'baseline_loss': 4.275007247924805, 'total_loss': -0.9502511024475098}\n",
      "2021-10-19 14:51:14.552 | INFO     | src.policies:minibatch_update:297 - Policy network L2 gradient norm: 8.202204704284668\n",
      "2021-10-19 14:51:14.554 | INFO     | src.policies:minibatch_update:301 - Baseline network L2 gradient norm: 2.775312900543213\n",
      "2021-10-19 14:51:14.556 | INFO     | src.policies:train:167 - Mini-batch 3 / 10\n",
      "2021-10-19 14:51:14.564 | INFO     | src.policies:minibatch_update:291 - Losses: {'policy_loss': -4.687638759613037, 'baseline_loss': 7.372398853302002, 'total_loss': -1.0014393329620361}\n",
      "2021-10-19 14:51:14.567 | INFO     | src.policies:minibatch_update:297 - Policy network L2 gradient norm: 23.56669044494629\n",
      "2021-10-19 14:51:14.569 | INFO     | src.policies:minibatch_update:301 - Baseline network L2 gradient norm: 12.753979682922363\n",
      "2021-10-19 14:51:14.571 | INFO     | src.policies:train:167 - Mini-batch 4 / 10\n",
      "2021-10-19 14:51:14.580 | INFO     | src.policies:minibatch_update:291 - Losses: {'policy_loss': -3.2906582355499268, 'baseline_loss': 4.363519668579102, 'total_loss': -1.108898401260376}\n",
      "2021-10-19 14:51:14.583 | INFO     | src.policies:minibatch_update:297 - Policy network L2 gradient norm: 17.149568557739258\n",
      "2021-10-19 14:51:14.585 | INFO     | src.policies:minibatch_update:301 - Baseline network L2 gradient norm: 3.893624782562256\n",
      "2021-10-19 14:51:14.587 | INFO     | src.policies:train:167 - Mini-batch 5 / 10\n",
      "2021-10-19 14:51:14.591 | INFO     | src.policies:minibatch_update:291 - Losses: {'policy_loss': -3.71160888671875, 'baseline_loss': 3.7630677223205566, 'total_loss': -1.8300750255584717}\n",
      "2021-10-19 14:51:14.597 | INFO     | src.policies:minibatch_update:297 - Policy network L2 gradient norm: 21.25065040588379\n",
      "2021-10-19 14:51:14.599 | INFO     | src.policies:minibatch_update:301 - Baseline network L2 gradient norm: 9.013223648071289\n",
      "2021-10-19 14:51:14.602 | INFO     | src.policies:train:167 - Mini-batch 6 / 10\n",
      "2021-10-19 14:51:14.606 | INFO     | src.policies:minibatch_update:291 - Losses: {'policy_loss': -6.3928070068359375, 'baseline_loss': 5.905668258666992, 'total_loss': -3.4399728775024414}\n",
      "2021-10-19 14:51:14.614 | INFO     | src.policies:minibatch_update:297 - Policy network L2 gradient norm: 37.264198303222656\n",
      "2021-10-19 14:51:14.616 | INFO     | src.policies:minibatch_update:301 - Baseline network L2 gradient norm: 15.113816261291504\n",
      "2021-10-19 14:51:14.618 | INFO     | src.policies:train:167 - Mini-batch 7 / 10\n",
      "2021-10-19 14:51:14.621 | INFO     | src.policies:minibatch_update:291 - Losses: {'policy_loss': -9.247751235961914, 'baseline_loss': 10.421250343322754, 'total_loss': -4.037126064300537}\n",
      "2021-10-19 14:51:14.624 | INFO     | src.policies:minibatch_update:297 - Policy network L2 gradient norm: 48.35552215576172\n",
      "2021-10-19 14:51:14.627 | INFO     | src.policies:minibatch_update:301 - Baseline network L2 gradient norm: 4.271164417266846\n",
      "2021-10-19 14:51:14.638 | INFO     | src.policies:train:167 - Mini-batch 8 / 10\n",
      "2021-10-19 14:51:14.650 | INFO     | src.policies:minibatch_update:291 - Losses: {'policy_loss': -14.922463417053223, 'baseline_loss': 15.533665657043457, 'total_loss': -7.155630588531494}\n",
      "2021-10-19 14:51:14.653 | INFO     | src.policies:minibatch_update:297 - Policy network L2 gradient norm: 74.26824188232422\n",
      "2021-10-19 14:51:14.654 | INFO     | src.policies:minibatch_update:301 - Baseline network L2 gradient norm: 3.867724895477295\n",
      "2021-10-19 14:51:14.656 | INFO     | src.policies:train:167 - Mini-batch 9 / 10\n",
      "2021-10-19 14:51:14.664 | INFO     | src.policies:minibatch_update:291 - Losses: {'policy_loss': -19.10795783996582, 'baseline_loss': 22.013080596923828, 'total_loss': -8.101417541503906}\n",
      "2021-10-19 14:51:14.667 | INFO     | src.policies:minibatch_update:297 - Policy network L2 gradient norm: 87.02961730957031\n",
      "2021-10-19 14:51:14.668 | INFO     | src.policies:minibatch_update:301 - Baseline network L2 gradient norm: 10.355688095092773\n",
      "2021-10-19 14:51:14.671 | INFO     | src.policies:train:167 - Mini-batch 10 / 10\n",
      "2021-10-19 14:51:14.674 | INFO     | src.policies:minibatch_update:291 - Losses: {'policy_loss': -21.4338436126709, 'baseline_loss': 23.447101593017578, 'total_loss': -9.71029281616211}\n",
      "2021-10-19 14:51:14.681 | INFO     | src.policies:minibatch_update:297 - Policy network L2 gradient norm: 90.04443359375\n",
      "2021-10-19 14:51:14.682 | INFO     | src.policies:minibatch_update:301 - Baseline network L2 gradient norm: 4.294462203979492\n",
      "2021-10-19 14:51:14.685 | INFO     | src.policies:train:183 - Epoch infos: {'efficiency': 20.0, 'equality': 1.0, 'sustainability': 267.3, 'peace': nan}\n",
      "2021-10-19 14:51:14.686 | INFO     | src.policies:train:198 - Saving model checkpoints to ../checkpoints\n"
     ]
    },
    {
     "ename": "AssertionError",
     "evalue": "The given path does not exist",
     "output_type": "error",
     "traceback": [
      "\u001b[0;31m---------------------------------------------------------------------------\u001b[0m",
      "\u001b[0;31mAssertionError\u001b[0m                            Traceback (most recent call last)",
      "\u001b[0;32m/tmp/ipykernel_22131/3176590848.py\u001b[0m in \u001b[0;36m<module>\u001b[0;34m\u001b[0m\n\u001b[1;32m      2\u001b[0m \u001b[0mvpg_baseline_nn\u001b[0m \u001b[0;34m=\u001b[0m \u001b[0mmodels\u001b[0m\u001b[0;34m.\u001b[0m\u001b[0mMLP\u001b[0m\u001b[0;34m(\u001b[0m\u001b[0mobservation_space_size\u001b[0m\u001b[0;34m,\u001b[0m \u001b[0mhidden_sizes\u001b[0m\u001b[0;34m,\u001b[0m \u001b[0;36m1\u001b[0m\u001b[0;34m,\u001b[0m \u001b[0mlog_softmax\u001b[0m\u001b[0;34m=\u001b[0m\u001b[0;32mFalse\u001b[0m\u001b[0;34m)\u001b[0m\u001b[0;34m\u001b[0m\u001b[0;34m\u001b[0m\u001b[0m\n\u001b[1;32m      3\u001b[0m \u001b[0mvpg_policy\u001b[0m \u001b[0;34m=\u001b[0m \u001b[0mpolicies\u001b[0m\u001b[0;34m.\u001b[0m\u001b[0mVPGPolicy\u001b[0m\u001b[0;34m(\u001b[0m\u001b[0menv\u001b[0m\u001b[0;34m,\u001b[0m \u001b[0mvpg_policy_nn\u001b[0m\u001b[0;34m,\u001b[0m \u001b[0mbaseline_nn\u001b[0m\u001b[0;34m=\u001b[0m\u001b[0mvpg_baseline_nn\u001b[0m\u001b[0;34m)\u001b[0m\u001b[0;34m\u001b[0m\u001b[0;34m\u001b[0m\u001b[0m\n\u001b[0;32m----> 4\u001b[0;31m vpg_policy.train(\n\u001b[0m\u001b[1;32m      5\u001b[0m     \u001b[0mepochs\u001b[0m\u001b[0;34m,\u001b[0m\u001b[0;34m\u001b[0m\u001b[0;34m\u001b[0m\u001b[0m\n\u001b[1;32m      6\u001b[0m     \u001b[0msteps_per_epoch\u001b[0m\u001b[0;34m,\u001b[0m\u001b[0;34m\u001b[0m\u001b[0;34m\u001b[0m\u001b[0m\n",
      "\u001b[0;32m~/cpr-appropriation/notebooks/../src/policies.py\u001b[0m in \u001b[0;36mtrain\u001b[0;34m(self, epochs, steps_per_epoch, minibatch_size, policy_lr, baseline_lr, discount, save_every, checkpoints_path, enable_wandb, wandb_config, max_episodes, std_returns, std_advs, episodes_mean_return, render_every, clip_gradient_norm)\u001b[0m\n\u001b[1;32m    197\u001b[0m             \u001b[0;32mif\u001b[0m \u001b[0msave_every\u001b[0m \u001b[0;32mis\u001b[0m \u001b[0;32mnot\u001b[0m \u001b[0;32mNone\u001b[0m \u001b[0;32mand\u001b[0m \u001b[0mepoch\u001b[0m \u001b[0;34m%\u001b[0m \u001b[0msave_every\u001b[0m \u001b[0;34m==\u001b[0m \u001b[0;36m0\u001b[0m\u001b[0;34m:\u001b[0m\u001b[0;34m\u001b[0m\u001b[0;34m\u001b[0m\u001b[0m\n\u001b[1;32m    198\u001b[0m                 \u001b[0mlogger\u001b[0m\u001b[0;34m.\u001b[0m\u001b[0minfo\u001b[0m\u001b[0;34m(\u001b[0m\u001b[0;34mf\"Saving model checkpoints to {checkpoints_path}\"\u001b[0m\u001b[0;34m)\u001b[0m\u001b[0;34m\u001b[0m\u001b[0;34m\u001b[0m\u001b[0m\n\u001b[0;32m--> 199\u001b[0;31m                 \u001b[0mself\u001b[0m\u001b[0;34m.\u001b[0m\u001b[0msave\u001b[0m\u001b[0;34m(\u001b[0m\u001b[0mcheckpoints_path\u001b[0m\u001b[0;34m)\u001b[0m\u001b[0;34m\u001b[0m\u001b[0;34m\u001b[0m\u001b[0m\n\u001b[0m\u001b[1;32m    200\u001b[0m \u001b[0;34m\u001b[0m\u001b[0m\n\u001b[1;32m    201\u001b[0m             \u001b[0;31m# Exit due to maximum episodes\u001b[0m\u001b[0;34m\u001b[0m\u001b[0;34m\u001b[0m\u001b[0m\n",
      "\u001b[0;32m~/cpr-appropriation/notebooks/../src/policies.py\u001b[0m in \u001b[0;36msave\u001b[0;34m(self, path)\u001b[0m\n\u001b[1;32m    452\u001b[0m         \u001b[0mSave\u001b[0m \u001b[0mpolicy\u001b[0m \u001b[0mnetwork\u001b[0m \u001b[0;32mand\u001b[0m \u001b[0mbaseline\u001b[0m \u001b[0mnetwork\u001b[0m \u001b[0;34m(\u001b[0m\u001b[0;32mif\u001b[0m \u001b[0mused\u001b[0m\u001b[0;34m)\u001b[0m \u001b[0mto\u001b[0m \u001b[0mthe\u001b[0m \u001b[0mgiven\u001b[0m \u001b[0mdirectory\u001b[0m\u001b[0;34m\u001b[0m\u001b[0;34m\u001b[0m\u001b[0m\n\u001b[1;32m    453\u001b[0m         \"\"\"\n\u001b[0;32m--> 454\u001b[0;31m         \u001b[0;32massert\u001b[0m \u001b[0mos\u001b[0m\u001b[0;34m.\u001b[0m\u001b[0mpath\u001b[0m\u001b[0;34m.\u001b[0m\u001b[0mexists\u001b[0m\u001b[0;34m(\u001b[0m\u001b[0mpath\u001b[0m\u001b[0;34m)\u001b[0m\u001b[0;34m,\u001b[0m \u001b[0;34m\"The given path does not exist\"\u001b[0m\u001b[0;34m\u001b[0m\u001b[0;34m\u001b[0m\u001b[0m\n\u001b[0m\u001b[1;32m    455\u001b[0m         assert not os.path.isfile(\n\u001b[1;32m    456\u001b[0m             \u001b[0mpath\u001b[0m\u001b[0;34m\u001b[0m\u001b[0;34m\u001b[0m\u001b[0m\n",
      "\u001b[0;31mAssertionError\u001b[0m: The given path does not exist"
     ]
    },
    {
     "name": "stderr",
     "output_type": "stream",
     "text": [
      "wandb: ERROR Dropped streaming file chunk (see wandb/debug-internal.log)\n",
      "ERROR:root:dropped chunk 404 Client Error: Not Found for url: https://api.wandb.ai/files/somz/cpr-appropriation/2kps6xu9/file_stream\n",
      "NoneType: None\n",
      "wandb: ERROR Error while calling W&B API: Error 1062: Duplicate entry '503936-2kps6xu9' for key 'PRIMARY' (<Response [409]>)\n",
      "wandb: ERROR Dropped streaming file chunk (see wandb/debug-internal.log)\n",
      "ERROR:root:dropped chunk 404 Client Error: Not Found for url: https://api.wandb.ai/files/somz/cpr-appropriation/2kps6xu9/file_stream\n",
      "NoneType: None\n",
      "wandb: ERROR Dropped streaming file chunk (see wandb/debug-internal.log)\n",
      "ERROR:root:dropped chunk 404 Client Error: Not Found for url: https://api.wandb.ai/files/somz/cpr-appropriation/32mjg777/file_stream\n",
      "NoneType: None\n",
      "wandb: ERROR Dropped streaming file chunk (see wandb/debug-internal.log)\n",
      "ERROR:root:dropped chunk 404 Client Error: Not Found for url: https://api.wandb.ai/files/somz/cpr-appropriation/32mjg777/file_stream\n",
      "NoneType: None\n"
     ]
    }
   ],
   "source": [
    "vpg_policy_nn = models.MLP(observation_space_size, hidden_sizes, action_space_size)\n",
    "vpg_baseline_nn = models.MLP(observation_space_size, hidden_sizes, 1, log_softmax=False)\n",
    "vpg_policy = policies.VPGPolicy(env, vpg_policy_nn, baseline_nn=vpg_baseline_nn)\n",
    "vpg_policy.train(\n",
    "    epochs,\n",
    "    steps_per_epoch,\n",
    "    minibatch_size,\n",
    "    enable_wandb=True,\n",
    "    wandb_config={**wandb_config, \"group\": \"VPG\"},\n",
    "    save_every=save_every,\n",
    "    checkpoints_path=checkpoints_path,\n",
    "    render_every=render_every,\n",
    "    std_returns=std_returns,\n",
    "    std_advs=std_advs,\n",
    "    clip_gradient_norm=clip_gradient_norm,\n",
    "    policy_lr=policy_lr,\n",
    "    baseline_lr=baseline_lr\n",
    ")"
   ]
  },
  {
   "cell_type": "markdown",
   "id": "5f905e97",
   "metadata": {},
   "source": [
    "## TRPO"
   ]
  },
  {
   "cell_type": "markdown",
   "id": "86bc84f4",
   "metadata": {},
   "source": [
    "This section deals with training a set of Harvest agents using our custom Trust Region Policy Optimization implementation."
   ]
  },
  {
   "cell_type": "code",
   "execution_count": null,
   "id": "008057e9",
   "metadata": {},
   "outputs": [],
   "source": [
    "beta = 1.0\n",
    "kl_target = 0.01"
   ]
  },
  {
   "cell_type": "code",
   "execution_count": null,
   "id": "5642d94a",
   "metadata": {},
   "outputs": [],
   "source": [
    "trpo_policy_nn = models.MLP(observation_space_size, hidden_sizes, action_space_size)\n",
    "trpo_baseline_nn = models.MLP(observation_space_size, hidden_sizes, 1, log_softmax=False)\n",
    "trpo_policy = policies.TRPOPolicy(env, trpo_policy_nn, trpo_baseline_nn, beta=beta, kl_target=kl_target)\n",
    "trpo_policy.train(\n",
    "    epochs,\n",
    "    steps_per_epoch,\n",
    "    minibatch_size,\n",
    "    enable_wandb=True,\n",
    "    wandb_config={**wandb_config, \"group\": \"TRPO\"},\n",
    "    save_every=save_every,\n",
    "    checkpoints_path=checkpoints_path,\n",
    "    render_every=render_every,\n",
    "    std_returns=std_returns,\n",
    "    std_advs=std_advs,\n",
    "    clip_gradient_norm=clip_gradient_norm,\n",
    "    policy_lr=policy_lr,\n",
    "    baseline_lr=baseline_lr\n",
    ")"
   ]
  },
  {
   "cell_type": "markdown",
   "id": "816e8a3c",
   "metadata": {},
   "source": [
    "## PPO"
   ]
  },
  {
   "cell_type": "markdown",
   "id": "bdf0a281",
   "metadata": {},
   "source": [
    "This section deals with training a set of Harvest agents using our custom Proximal Policy Optimization implementation."
   ]
  },
  {
   "cell_type": "code",
   "execution_count": null,
   "id": "7ba6b1e3",
   "metadata": {},
   "outputs": [],
   "source": [
    "alpha = 0.5\n",
    "beta = 0.01\n",
    "eps = 0.2"
   ]
  },
  {
   "cell_type": "code",
   "execution_count": null,
   "id": "e359b6f1",
   "metadata": {
    "scrolled": true
   },
   "outputs": [],
   "source": [
    "ppo_policy_nn = models.MLP(observation_space_size, hidden_sizes, action_space_size)\n",
    "ppo_baseline_nn = models.MLP(observation_space_size, hidden_sizes, 1, log_softmax=False)\n",
    "ppo_policy = policies.PPOPolicy(env, ppo_policy_nn, ppo_baseline_nn, alpha=alpha, beta=beta, eps=eps)\n",
    "ppo_policy.train(\n",
    "    epochs,\n",
    "    steps_per_epoch,\n",
    "    minibatch_size,\n",
    "    enable_wandb=True,\n",
    "    wandb_config={**wandb_config, \"group\": \"PPO\"},\n",
    "    save_every=save_every,\n",
    "    checkpoints_path=checkpoints_path,\n",
    "    render_every=render_every,\n",
    "    std_returns=std_returns,\n",
    "    std_advs=std_advs,\n",
    "    clip_gradient_norm=clip_gradient_norm,\n",
    "    policy_lr=policy_lr,\n",
    "    baseline_lr=baseline_lr\n",
    ")"
   ]
  },
  {
   "cell_type": "markdown",
   "id": "fe05f592",
   "metadata": {},
   "source": [
    "## Evaluation"
   ]
  },
  {
   "cell_type": "markdown",
   "id": "500b0348",
   "metadata": {},
   "source": [
    "In this section we are evaluating one of the trained models on the Harvest environment and visualizing results through custom rendering functions."
   ]
  },
  {
   "cell_type": "code",
   "execution_count": null,
   "id": "df34e0bc",
   "metadata": {},
   "outputs": [],
   "source": [
    "policy = ppo_policy\n",
    "checkpoint = \"\"\n",
    "policy.load(checkpoint)"
   ]
  },
  {
   "cell_type": "code",
   "execution_count": null,
   "id": "e4caf1d5",
   "metadata": {},
   "outputs": [],
   "source": [
    "policy.policy_nn.eval()\n",
    "policy.baseline_nn.eval()\n",
    "observations = env.reset()\n",
    "prev_actions = {h: None for h in range(env.n_agents)}\n",
    "for _ in range(env._max_episode_steps):\n",
    "    env.render()\n",
    "    action_dict = dict()\n",
    "    for agent_handle in range(env.n_agents):\n",
    "        legal_actions = env.get_legal_actions(agent_handle)\n",
    "        probs = np.exp(\n",
    "            ppo_policy.policy_nn(\n",
    "                torch.tensor(observations[agent_handle], dtype=torch.float32), \n",
    "                torch.tensor(legal_actions, dtype=torch.int64)\n",
    "            ).cpu().detach().numpy()\n",
    "        )\n",
    "        action = np.argmax(probs)\n",
    "        if prev_actions[agent_handle] == 0 and action == 1:\n",
    "            probs[1] = 0\n",
    "        if prev_actions[agent_handle] == 1 and action == 0:\n",
    "            probs[0] = 0\n",
    "        if prev_actions[agent_handle] == 2 and action == 3:\n",
    "            probs[3] = 0\n",
    "        if prev_actions[agent_handle] == 3 and action == 2:\n",
    "            probs[2] = 0\n",
    "        if prev_actions[agent_handle] == 4 and action == 5:\n",
    "            probs[5] = 0\n",
    "        if prev_actions[agent_handle] == 5 and action == 4:\n",
    "            probs[4] = 0\n",
    "        if prev_actions[agent_handle] == action:\n",
    "            probs[action] == 0\n",
    "        action = np.argmax(probs)\n",
    "        prev_actions[agent_handle] = action\n",
    "\n",
    "    print(env.agent_positions)\n",
    "    action_dict = {0: action}\n",
    "    print(action_dict)\n",
    "    observations, rewards, dones, infos = env.step(action_dict)\n",
    "    print(infos)\n",
    "    display.clear_output(wait=True)\n",
    "    #time.sleep(3)\n",
    "env.close()"
   ]
  }
 ],
 "metadata": {
  "kernelspec": {
   "display_name": "Python 3 (ipykernel)",
   "language": "python",
   "name": "python3"
  },
  "language_info": {
   "codemirror_mode": {
    "name": "ipython",
    "version": 3
   },
   "file_extension": ".py",
   "mimetype": "text/x-python",
   "name": "python",
   "nbconvert_exporter": "python",
   "pygments_lexer": "ipython3",
   "version": "3.9.7"
  }
 },
 "nbformat": 4,
 "nbformat_minor": 5
}
